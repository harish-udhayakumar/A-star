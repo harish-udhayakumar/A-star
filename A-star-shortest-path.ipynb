{
 "cells": [
  {
   "cell_type": "markdown",
   "metadata": {},
   "source": [
    "# A* Algo"
   ]
  },
  {
   "cell_type": "code",
   "execution_count": 760,
   "metadata": {},
   "outputs": [],
   "source": [
    "import numpy as np\n",
    "import matplotlib.pyplot as plt\n",
    "from matplotlib import colors\n",
    "import math\n",
    "\n",
    "n = 5\n",
    "p=0.3\n",
    "matrix = []\n",
    "block_unblock_matrix = []\n",
    "agent_matrix = []\n",
    "parentDict = {}"
   ]
  },
  {
   "cell_type": "code",
   "execution_count": 761,
   "metadata": {},
   "outputs": [],
   "source": [
    "def euclidean_distance_calc(i, j, n):\n",
    "    return math.sqrt(((n - i)**2 + (n - j)**2))\n",
    "\n",
    "def chebyshev_distance_calc(i, j, n):\n",
    "    return max((n - i), (n - j))\n",
    "\n",
    "\n",
    "def manhattan_distance_calc(i, j, n):\n",
    "    return abs(n - i) + abs(n - j)\n",
    "\n",
    "def compute_hofn(n, heuristic):\n",
    "    \n",
    "    hofn_matrix = []\n",
    "    for i in range(n):\n",
    "        hofn_row = []\n",
    "        for j in range(n):\n",
    "            if heuristic == \"euclidean\":\n",
    "                dist = euclidean_distance_calc(i, j, n -1)\n",
    "            elif heuristic == \"chebyshev\":\n",
    "                dist = chebyshev_distance_calc(i, j, n -1)\n",
    "            elif heuristic == \"manhattan\":\n",
    "                dist = manhattan_distance_calc(i, j, n -1)\n",
    "            hofn_row.append(dist)\n",
    "        hofn_matrix.append(hofn_row)\n",
    "    return np.array(hofn_matrix)"
   ]
  },
  {
   "cell_type": "code",
   "execution_count": 762,
   "metadata": {},
   "outputs": [
    {
     "data": {
      "text/plain": [
       "<matplotlib.image.AxesImage at 0x7f53ff1547f0>"
      ]
     },
     "execution_count": 762,
     "metadata": {},
     "output_type": "execute_result"
    },
    {
     "data": {
      "image/png": "[encoded data removed]",
      "text/plain": [
       "<Figure size 432x288 with 1 Axes>"
      ]
     },
     "metadata": {
      "needs_background": "light"
     },
     "output_type": "display_data"
    }
   ],
   "source": [
    "def populateMatrix(n,p):\n",
    "    global block_unblock_matrix\n",
    "    np_array = np.random.rand(n*n)\n",
    "    block = lambda x: 0 if x>=p else 1\n",
    "    vectorized_block = np.vectorize(block)\n",
    "    np_array = vectorized_block(np_array).reshape(n,n)\n",
    "    np_array[0,0]=0\n",
    "    np_array[n-1,n-1] =0\n",
    "    block_unblock_matrix = np.asmatrix(np_array)\n",
    "\n",
    "#############testing on hard coded matrix ###########\n",
    "# block_unblock_matrix = [[0, 0, 0, 0, 0],\n",
    "#         [0, 0, 0, 0, 0],\n",
    "#         [0, 0, 0, 0, 0],\n",
    "#         [0, 1, 0, 0, 0],\n",
    "#         [1, 0, 0, 1, 0]]\n",
    "#######################################\n",
    "populateMatrix(n,p)\n",
    "# block_unblock_matrix = np.matrix(block_unblock_matrix)\n",
    "plt.spy(block_unblock_matrix)"
   ]
  },
  {
   "cell_type": "code",
   "execution_count": 763,
   "metadata": {},
   "outputs": [],
   "source": [
    "def initialize(dim,p):\n",
    "    n = dim\n",
    "    block_unblock_matrix = []\n",
    "    agent_matrix = []\n",
    "    parentDict = {}\n",
    "    populateMatrix(n,p)"
   ]
  },
  {
   "cell_type": "code",
   "execution_count": 764,
   "metadata": {},
   "outputs": [
    {
     "data": {
      "text/plain": [
       "matrix([[0, 0, 0, 1, 0],\n",
       "        [0, 0, 0, 0, 0],\n",
       "        [1, 0, 0, 0, 0],\n",
       "        [0, 0, 0, 0, 0],\n",
       "        [1, 0, 1, 0, 0]])"
      ]
     },
     "execution_count": 764,
     "metadata": {},
     "output_type": "execute_result"
    }
   ],
   "source": [
    "block_unblock_matrix"
   ]
  },
  {
   "cell_type": "raw",
   "metadata": {},
   "source": [
    "h(n) matrix"
   ]
  },
  {
   "cell_type": "markdown",
   "metadata": {},
   "source": [
    "g(n) matrix"
   ]
  },
  {
   "cell_type": "code",
   "execution_count": 765,
   "metadata": {},
   "outputs": [],
   "source": [
    "def compute_gofn(n):\n",
    "    k = 0\n",
    "    gofn = []\n",
    "    one_row = []\n",
    "    for j in range(n):\n",
    "        one_row.append(k)\n",
    "        k += 1\n",
    "    gofn.append(one_row)\n",
    "    for i in range(n-1):\n",
    "        one_row = [x+1 for x in one_row]\n",
    "        gofn.append(one_row)\n",
    "\n",
    "    gofn_matrix = np.array([np.array(xi) for xi in gofn])\n",
    "    return gofn_matrix"
   ]
  },
  {
   "cell_type": "code",
   "execution_count": 766,
   "metadata": {},
   "outputs": [],
   "source": [
    "def get_gofn(gofn_matrix, row, col):\n",
    "    return gofn_matrix[row][col]"
   ]
  },
  {
   "cell_type": "code",
   "execution_count": 767,
   "metadata": {},
   "outputs": [],
   "source": [
    "def get_hofn(hofn_matrix, row, col):\n",
    "    return hofn_matrix[row][col]"
   ]
  },
  {
   "cell_type": "code",
   "execution_count": 768,
   "metadata": {},
   "outputs": [],
   "source": [
    "def get_children(matrix, x, y, n, gofn, visited_list):\n",
    "    allChildren = [(x+1,y,gofn+1),#down\n",
    "                   (x-1,y,gofn+1),#up\n",
    "                   (x,y+1,gofn+1),#right\n",
    "                   (x,y-1,gofn+1)]#left\n",
    "    if x+1 > n-1:\n",
    "        allChildren.remove((x+1,y,gofn+1))\n",
    "    if x-1 < 0:\n",
    "        allChildren.remove((x-1,y,gofn+1))\n",
    "    if y+1 > n-1:\n",
    "        allChildren.remove((x,y+1,gofn+1))\n",
    "    if y-1 < 0:\n",
    "        allChildren.remove((x,y-1,gofn+1))\n",
    "    allChildren = [node for node in allChildren if node[:2] not in visited_list]\n",
    "    \n",
    "    return allChildren"
   ]
  },
  {
   "cell_type": "code",
   "execution_count": 769,
   "metadata": {},
   "outputs": [],
   "source": [
    "def sort(open_list, gofn_matrix, hofn_matrix):\n",
    "    sort_dict = {}\n",
    "    for node in open_list:\n",
    "        row = node[0]\n",
    "        col = node[1]\n",
    "        gofn = gofn_matrix.item(row,col)\n",
    "        hofn = hofn_matrix.item(row,col)\n",
    "#         print(\"node\", node, \" - gofn: \", gofn,  \" - hofn: \", hofn)\n",
    "        sort_dict[node] = hofn\n",
    "        \n",
    "        sort_dict = dict(sorted(sort_dict.items(), key=lambda item: item[1]))\n",
    "    return sort_dict"
   ]
  },
  {
   "cell_type": "code",
   "execution_count": 770,
   "metadata": {},
   "outputs": [],
   "source": [
    "def display(trajectory_path):\n",
    "    np_array = np.zeros((n,n), dtype=int)\n",
    "#     np_array = populateMatrix(n,0)\n",
    "    final_display_matrix = np.asmatrix(np_array)\n",
    "    for path in trajectory_path:\n",
    "        final_display_matrix[path[:2]] = 1\n",
    "    colormap = colors.ListedColormap([\"white\",\"green\"])\n",
    "    plt.imshow(final_display_matrix, cmap=colormap)\n",
    "    plt.show()"
   ]
  },
  {
   "cell_type": "code",
   "execution_count": 771,
   "metadata": {},
   "outputs": [],
   "source": [
    "def display2(trajectory_path,matrix):\n",
    "   \n",
    "    temp = matrix.copy()\n",
    "    for path in trajectory_path:\n",
    "        temp[path[:2]] = 2\n",
    "    colormap = colors.ListedColormap([\"white\",\"black\",\"green\"])\n",
    "    plt.imshow(temp, cmap=colormap)\n",
    "    plt.show()"
   ]
  },
  {
   "cell_type": "code",
   "execution_count": 772,
   "metadata": {},
   "outputs": [],
   "source": [
    "def node_block_check(children_dict, block_unblock_matrix, current_node):\n",
    "    node_blocked = 0\n",
    "    node_removal_list = []\n",
    "#     for node in children_dict:\n",
    "    children_node_list = children_dict[current_node].copy()\n",
    "    for i in range(len(children_node_list)):\n",
    "        #checking if all children are blocked\n",
    "        if block_unblock_matrix.item(children_node_list[i]) == 1:\n",
    "            node_blocked += 1\n",
    "            children_dict[current_node].remove(children_node_list[i])\n",
    "        if node_blocked == len(children_node_list):\n",
    "            node_removal_list.append(current_node)\n",
    "    return node_removal_list"
   ]
  },
  {
   "cell_type": "code",
   "execution_count": 773,
   "metadata": {},
   "outputs": [],
   "source": [
    "def buildParentDict(children_dict):\n",
    "    global parentDict\n",
    "    for key in children_dict.keys():\n",
    "        for child in children_dict[key]:\n",
    "            parentDict[child] = key"
   ]
  },
  {
   "cell_type": "code",
   "execution_count": 774,
   "metadata": {},
   "outputs": [],
   "source": [
    "def getShortestPath(start):\n",
    "    path = [(n-1,n-1)]\n",
    "    node = (n-1,n-1)\n",
    "    start = start[:2]\n",
    "    while node != start:\n",
    "        path.append(parentDict[node])\n",
    "        node = parentDict[node]\n",
    "    return path"
   ]
  },
  {
   "cell_type": "code",
   "execution_count": 775,
   "metadata": {},
   "outputs": [],
   "source": [
    "def astar(start, agent_matrix):\n",
    "    visited_list = []\n",
    "    open_list = []\n",
    "    trajectory_path = []\n",
    "    trajectory_plus_gofn = []\n",
    "    path_block = 0\n",
    "    children_dict = {}\n",
    "    i = 0\n",
    "    goal = (n-1, n-1)\n",
    "    num_of_cells_processed = 0\n",
    "\n",
    "    open_list.append(start)\n",
    "    gofn_matrix = compute_gofn(n)\n",
    "    hofn_matrix = compute_hofn(n, \"manhattan\")\n",
    "\n",
    "    while open_list:\n",
    "        child_list = []\n",
    "        current_node = open_list.pop(0)\n",
    "        num_of_cells_processed += 1\n",
    "        if current_node[:2] not in visited_list:\n",
    "            visited_list.append(current_node[:2])\n",
    "            if current_node[:2] not in trajectory_path: \n",
    "                trajectory_path.append(current_node[:2])\n",
    "                trajectory_plus_gofn.append(current_node)\n",
    "\n",
    "            if agent_matrix.item(current_node[0], current_node[1]) == 0:\n",
    "                if current_node[0] == n-1 and current_node[1] == n-1:\n",
    "#                     print(\"Reached Goal!!!!!!!!!!!!!!!!!!!!!!!\")\n",
    "                    trajectory_plus_gofn.append(current_node)\n",
    "                    buildParentDict(children_dict)\n",
    "                    shortestPath = getShortestPath(start)\n",
    "                    return (trajectory_path,trajectory_plus_gofn,num_of_cells_processed,shortestPath)\n",
    "\n",
    "                children = get_children(agent_matrix, current_node[0], current_node[1], n, current_node[2], visited_list)\n",
    "\n",
    "                for x in children:\n",
    "                    child_list.append(x[:2])\n",
    "                children_dict[current_node[:2]] = child_list\n",
    "                \n",
    "                for node in children:\n",
    "                    if node not in open_list:\n",
    "                        open_list.append(node)\n",
    "                sort_dict = sort(open_list, gofn_matrix, hofn_matrix)\n",
    "                open_list = list(sort_dict.keys())\n",
    "                node_removal_list = node_block_check(children_dict, agent_matrix, current_node[:2])\n",
    "                for node in node_removal_list:\n",
    "                    if node in trajectory_path:\n",
    "                        trajectory_path.remove(node)\n",
    "                        trajectory_plus_gofn = [i for i in trajectory_plus_gofn if i[:2] != node]\n",
    "\n",
    "            else:\n",
    "                if open_list == []:\n",
    "                    print(\"There is no path available to goal Node**\")\n",
    "                    return ([],[], 0,[])\n",
    "                else:\n",
    "                    if current_node[:2] in trajectory_path:\n",
    "                        trajectory_path.remove(current_node[:2])\n",
    "                        trajectory_plus_gofn.remove(current_node)\n",
    "        else:\n",
    "            if open_list == []:\n",
    "                    print(\"There is no path available to goal Node++\")\n",
    "                    return ([],[], 0,[])"
   ]
  },
  {
   "cell_type": "code",
   "execution_count": 776,
   "metadata": {},
   "outputs": [],
   "source": [
    "def repeated_astar():\n",
    "    global agent_matrix\n",
    "    \n",
    "    agent_matrix = np_array = populateMatrix(n,0)\n",
    "    agent_matrix = np.asmatrix(np_array)\n",
    "    goal_reached = False\n",
    "    goal = (n-1,n-1)\n",
    "    path = []\n",
    "    final_path = [(0,0,0)]\n",
    "    trajectory_length = 0\n",
    "    num_of_cells =0\n",
    "    \n",
    "    while not goal_reached:\n",
    "        (path1,path2,astar_num_cells,shortest_path) = astar(final_path[-1],agent_matrix)\n",
    "        num_of_cells += astar_num_cells\n",
    "        if(path1 == []):\n",
    "            break\n",
    "        \n",
    "        for node in path2:\n",
    "            if block_unblock_matrix[node[:2]] == 0:\n",
    "                if node not in final_path:\n",
    "                    final_path.append(node)\n",
    "                    trajectory_length += 1\n",
    "                    if node[:2] == goal:\n",
    "                        goal_reached = True\n",
    "                        break\n",
    "            else:\n",
    "                agent_matrix[node[:2]] = 1\n",
    "                trajectory_length += 2\n",
    "                break\n",
    "\n",
    "    return (trajectory_length, num_of_cells)"
   ]
  },
  {
   "cell_type": "code",
   "execution_count": 777,
   "metadata": {},
   "outputs": [
    {
     "name": "stdout",
     "output_type": "stream",
     "text": [
      "A*: \n",
      "trajectory A*:  [(0, 0), (1, 0), (1, 1), (2, 1), (3, 1), (3, 2), (3, 3), (4, 3), (4, 4)]\n"
     ]
    },
    {
     "data": {
      "image/png": "[encoded data removed]",
      "text/plain": [
       "<Figure size 432x288 with 1 Axes>"
      ]
     },
     "metadata": {
      "needs_background": "light"
     },
     "output_type": "display_data"
    },
    {
     "name": "stdout",
     "output_type": "stream",
     "text": [
      "shortest path A*:  [(4, 4), (4, 3), (3, 3), (3, 2), (3, 1), (2, 1), (1, 1), (1, 0), (0, 0)]\n"
     ]
    },
    {
     "data": {
      "image/png": "[encoded data removed]",
      "text/plain": [
       "<Figure size 432x288 with 1 Axes>"
      ]
     },
     "metadata": {
      "needs_background": "light"
     },
     "output_type": "display_data"
    }
   ],
   "source": [
    "######## Repeated A* #####################\n",
    "# repeated_astar()\n",
    "########## A* on full gridworld ###########\n",
    "print(\"A*: \")\n",
    "(trajectory_path,_,_,shortest_path) = astar((0,0,0),block_unblock_matrix)\n",
    "print(\"trajectory A*: \",trajectory_path)\n",
    "display(trajectory_path)\n",
    "print(\"shortest path A*: \",shortest_path)\n",
    "display(shortest_path)\n",
    "#############################################\n",
    "# parentDict = {}\n",
    "############ A* on final discovered Gridworld ##########\n",
    "# print(\"A* on final discovered gridworld:\")\n",
    "# trajectory_path ,_,_,shortest_path= astar((0,0,0),agent_matrix)\n",
    "# print(\"trajectory_path for A* on final discovered world: \",trajectory_path)\n",
    "# display2(trajectory_path,agent_matrix)\n",
    "# print(\"shortest path for A* on final discovered world:\")\n",
    "# display2(shortest_path,agent_matrix)\n",
    "# print(\"shortest path: \",shortest_path)"
   ]
  },
  {
   "cell_type": "code",
   "execution_count": 757,
   "metadata": {},
   "outputs": [],
   "source": [
    "# block_unblock_matrix[block_unblock_matrix==0] = 1"
   ]
  },
  {
   "cell_type": "markdown",
   "metadata": {},
   "source": [
    "############## Testing for range of values n=101 ###############"
   ]
  },
  {
   "cell_type": "code",
   "execution_count": null,
   "metadata": {},
   "outputs": [],
   "source": [
    "# def check_threshold(num_of_runs,dimension,p_low,p_high,step):\n",
    "#     probabilities = np.arange(p_low, p_high, step)\n",
    "#     for prob in list(probabilities)\n",
    "#         for i in range(num_of_runs):\n",
    "#             initialize(dimension,prob)\n",
    "#             (trajectory_path,_,_,shortest_path) = astar((0,0,0),block_unblock_matrix)\n",
    "            \n",
    "            \n",
    "# # (trajectory_path,_,_,shortest_path) = astar((0,0,0),block_unblock_matrix)\n",
    "# # print(\"trajectory A*: \",trajectory_path)\n",
    "# # display(trajectory_path)\n",
    "# # print(\"shortest path A*: \",shortest_path)\n",
    "# # display(shortest_path)"
   ]
  }
 ],
 "metadata": {
  "kernelspec": {
   "display_name": "Python 3",
   "language": "python",
   "name": "python3"
  },
  "language_info": {
   "codemirror_mode": {
    "name": "ipython",
    "version": 3
   },
   "file_extension": ".py",
   "mimetype": "text/x-python",
   "name": "python",
   "nbconvert_exporter": "python",
   "pygments_lexer": "ipython3",
   "version": "3.8.5"
  }
 },
 "nbformat": 4,
 "nbformat_minor": 5
}
