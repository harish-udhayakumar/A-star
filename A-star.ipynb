{
 "cells": [
  {
   "cell_type": "markdown",
   "id": "c1bea935",
   "metadata": {},
   "source": [
    "# A* Algo"
   ]
  },
  {
   "cell_type": "code",
   "execution_count": 61,
   "id": "10fd0e6c",
   "metadata": {},
   "outputs": [
    {
     "data": {
      "text/plain": [
       "matrix([[77,  5, 75, 96, 91, 57,  4, 99, 78, 57],\n",
       "        [32,  4,  9,  5, 96,  7,  2, 52, 49,  5],\n",
       "        [86, 73, 78,  4, 28,  7, 99, 30, 51, 30],\n",
       "        [12, 74, 54, 17, 93, 44,  9, 48, 38, 25],\n",
       "        [34, 30, 70, 60, 54, 84, 71, 12, 66, 44],\n",
       "        [15, 57, 78, 52, 91, 57, 83, 54, 97, 83],\n",
       "        [41,  4, 95, 53, 46, 98, 54,  0, 98, 27],\n",
       "        [20, 31, 71, 39,  0, 95, 61, 29, 45, 34],\n",
       "        [62, 69, 63, 22, 85, 43,  4, 80, 42, 66],\n",
       "        [79, 10, 90,  3, 31, 80, 40,  3, 45, 37]])"
      ]
     },
     "execution_count": 61,
     "metadata": {},
     "output_type": "execute_result"
    }
   ],
   "source": [
    "import numpy as np\n",
    "n = 10\n",
    "matrix = []\n",
    "block_unblock_matrix = []\n",
    "\n",
    "np_array = np.random.randint(0, 100, n*n).reshape(n, n)\n",
    "matrix = np.asmatrix(np_array)\n",
    "\n",
    "matrix"
   ]
  },
  {
   "cell_type": "code",
   "execution_count": 62,
   "id": "b5e6c8a9",
   "metadata": {},
   "outputs": [
    {
     "data": {
      "text/plain": [
       "matrix([[0, 0, 0, 1, 0, 0, 1, 0, 1, 0],\n",
       "        [1, 0, 0, 0, 1, 1, 0, 0, 0, 0],\n",
       "        [1, 1, 1, 0, 0, 0, 1, 1, 1, 0],\n",
       "        [1, 0, 0, 1, 0, 1, 0, 1, 1, 1],\n",
       "        [1, 1, 1, 0, 0, 1, 1, 1, 0, 0],\n",
       "        [0, 0, 1, 0, 0, 1, 1, 0, 1, 1],\n",
       "        [1, 1, 0, 0, 1, 1, 0, 1, 0, 0],\n",
       "        [0, 1, 1, 1, 0, 0, 0, 1, 0, 1],\n",
       "        [1, 1, 0, 1, 1, 1, 1, 1, 1, 1],\n",
       "        [0, 0, 1, 1, 1, 1, 0, 0, 1, 1]])"
      ]
     },
     "execution_count": 62,
     "metadata": {},
     "output_type": "execute_result"
    }
   ],
   "source": [
    "np_array = np.random.randint(0, 2, n*n).reshape(n, n)\n",
    "block_unblock_matrix = np.asmatrix(np_array)\n",
    "\n",
    "block_unblock_matrix"
   ]
  },
  {
   "cell_type": "raw",
   "id": "c91aa8f2",
   "metadata": {},
   "source": [
    "h(n) matrix"
   ]
  },
  {
   "cell_type": "code",
   "execution_count": 63,
   "id": "059eaa05",
   "metadata": {
    "scrolled": true
   },
   "outputs": [],
   "source": [
    "# [[1 for j in range(n)] for i in range(n)]\n",
    "\n",
    "# hofn_matrix = list(np.array(np.arange(100).reshape((10,10))))\n",
    "# # np.fliplr(hofn_matrix)\n",
    "\n",
    "def compute_hofn(n):\n",
    "    k = 0\n",
    "    hofn = []\n",
    "    one_row = []\n",
    "    for j in range(n):\n",
    "        one_row.append(k)\n",
    "        k += 1\n",
    "\n",
    "    hofn.append(one_row)\n",
    "\n",
    "    for i in range(n-1):\n",
    "        one_row = [x+1 for x in one_row]\n",
    "        hofn.append(one_row)\n",
    "\n",
    "    hofn_matrix = np.array([np.array(xi) for xi in hofn])\n",
    "    hofn_matrix = np.flip(hofn_matrix)\n",
    "    return hofn_matrix"
   ]
  },
  {
   "cell_type": "markdown",
   "id": "b5338b7a",
   "metadata": {},
   "source": [
    "g(n) matrix"
   ]
  },
  {
   "cell_type": "code",
   "execution_count": 64,
   "id": "2341fcac",
   "metadata": {},
   "outputs": [],
   "source": [
    "def compute_gofn(n):\n",
    "    k = 0\n",
    "    gofn = []\n",
    "    one_row = []\n",
    "    for j in range(n):\n",
    "        one_row.append(k)\n",
    "        k += 1\n",
    "    gofn.append(one_row)\n",
    "    for i in range(n-1):\n",
    "        one_row = [x+1 for x in one_row]\n",
    "        gofn.append(one_row)\n",
    "\n",
    "    gofn_matrix = np.array([np.array(xi) for xi in gofn])\n",
    "    return gofn_matrix"
   ]
  },
  {
   "cell_type": "code",
   "execution_count": 65,
   "id": "77632861",
   "metadata": {},
   "outputs": [],
   "source": [
    "def get_gofn(gofn_matrix, row, col):\n",
    "    return gofn_matrix[row][col]"
   ]
  },
  {
   "cell_type": "code",
   "execution_count": 66,
   "id": "ae1c0791",
   "metadata": {},
   "outputs": [],
   "source": [
    "def get_hofn(hofn_matrix, row, col):\n",
    "    return hofn_matrix[row][col]"
   ]
  },
  {
   "cell_type": "code",
   "execution_count": 72,
   "id": "d2f90607",
   "metadata": {},
   "outputs": [],
   "source": [
    "def get_children(matrix, row, column, n):\n",
    "    children = []\n",
    "    if row == 0 and column == 0:\n",
    "        children.append((row+1,column))\n",
    "        children.append((row, column+1))\n",
    "    elif row == n-1 and column == n-1:\n",
    "        print(\"goal node doesn't have children\")\n",
    "    elif row == n-1:\n",
    "        children.append((row, column+1))\n",
    "    elif column == n-1:\n",
    "        children.append((row+1, column))\n",
    "    else:\n",
    "        print(\"Invalid node\")\n",
    "    return children "
   ]
  },
  {
   "cell_type": "code",
   "execution_count": 73,
   "id": "b5bdc998",
   "metadata": {},
   "outputs": [],
   "source": [
    "def sort(open_list, gofn_matrix, hofn_matrix):\n",
    "    sort_dict = {}\n",
    "    for node in open_list:\n",
    "        row = node[0]\n",
    "        col = node[1]\n",
    "        gofn = gofn_matrix.item(start)\n",
    "        hofn = hofn_matrix[row][col]\n",
    "        fofn = gofn + hofn\n",
    "        sort_dict[fofn] = node\n",
    "    sort_dict = dict(sorted(sort_dict.items(), key=lambda item: item[1]))\n",
    "    return sort_dict"
   ]
  },
  {
   "cell_type": "code",
   "execution_count": 76,
   "id": "faaa93b4",
   "metadata": {},
   "outputs": [
    {
     "name": "stdout",
     "output_type": "stream",
     "text": [
      "[(0, 0)]\n",
      "children [(1, 0), (0, 1)]\n",
      "open_list [(1, 0), (0, 1)]\n",
      "\n",
      " {17: (0, 1)}\n",
      "Invalid node\n",
      "children []\n",
      "open_list [(1, 0)]\n",
      "\n",
      " {17: (1, 0)}\n"
     ]
    }
   ],
   "source": [
    "visited_list = []\n",
    "open_list = []\n",
    "\n",
    "start = (0,0)\n",
    "goal = (n-1, n-1)\n",
    "\n",
    "open_list.append(start)\n",
    "print(open_list)\n",
    "gofn_matrix = compute_gofn(n)\n",
    "hofn_matrix = compute_hofn(n)\n",
    "while open_list:\n",
    "    current_node = open_list.pop()\n",
    "    if block_unblock_matrix.item(current_node) == 0:\n",
    "        visited_list.append(current_node)\n",
    "        children = get_children(block_unblock_matrix, current_node[0], current_node[1], n)\n",
    "        print(\"children\", children)\n",
    "        open_list.extend(children)\n",
    "        sort_dict = sort(open_list, gofn_matrix, hofn_matrix)\n",
    "        print(\"open_list\", open_list)\n",
    "        print(\"\\n\", sort_dict)\n",
    "#         break"
   ]
  },
  {
   "cell_type": "code",
   "execution_count": null,
   "id": "9f19338e",
   "metadata": {},
   "outputs": [],
   "source": []
  }
 ],
 "metadata": {
  "kernelspec": {
   "display_name": "Python 3",
   "language": "python",
   "name": "python3"
  },
  "language_info": {
   "codemirror_mode": {
    "name": "ipython",
    "version": 3
   },
   "file_extension": ".py",
   "mimetype": "text/x-python",
   "name": "python",
   "nbconvert_exporter": "python",
   "pygments_lexer": "ipython3",
   "version": "3.8.8"
  }
 },
 "nbformat": 4,
 "nbformat_minor": 5
}
