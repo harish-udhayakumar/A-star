{
 "cells": [
  {
   "cell_type": "markdown",
   "id": "e7c8db48",
   "metadata": {},
   "source": [
    "# A* Algo"
   ]
  },
  {
   "cell_type": "code",
   "execution_count": 2,
   "id": "d792177a",
   "metadata": {},
   "outputs": [],
   "source": [
    "import numpy as np\n",
    "import matplotlib.pyplot as plt\n",
    "\n",
    "n = 5\n",
    "matrix = []\n",
    "block_unblock_matrix = []\n"
   ]
  },
  {
   "cell_type": "code",
   "execution_count": 3,
   "id": "f593c27c",
   "metadata": {},
   "outputs": [
    {
     "data": {
      "text/plain": [
       "<matplotlib.image.AxesImage at 0x7fe22a540370>"
      ]
     },
     "execution_count": 3,
     "metadata": {},
     "output_type": "execute_result"
    },
    {
     "data": {
      "image/png": "[encoded data removed]",
      "text/plain": [
       "<Figure size 432x288 with 1 Axes>"
      ]
     },
     "metadata": {
      "needs_background": "light"
     },
     "output_type": "display_data"
    }
   ],
   "source": [
    "def populateMatrix(n,p):\n",
    "    np_array = np.random.rand(n*n)\n",
    "    block = lambda x: 0 if x>=p else 1\n",
    "    vectorized_block = np.vectorize(block)\n",
    "    np_array = vectorized_block(np_array).reshape(n,n)\n",
    "    np_array[0,0]=0\n",
    "    np_array[n-1,n-1] =0\n",
    "    return np_array\n",
    "    \n",
    "np_array = populateMatrix(5,0.5)\n",
    "block_unblock_matrix = np.asmatrix(np_array)\n",
    "\n",
    "plt.spy(block_unblock_matrix)"
   ]
  },
  {
   "cell_type": "raw",
   "id": "47de9014",
   "metadata": {},
   "source": [
    "h(n) matrix"
   ]
  },
  {
   "cell_type": "code",
   "execution_count": 4,
   "id": "97381688",
   "metadata": {},
   "outputs": [],
   "source": [
    "import math\n",
    "\n",
    "def euclidean_distance_calc(i, j, n):\n",
    "    return math.sqrt(((n - i)**2 + (n - j)**2))\n",
    "\n",
    "def chebyshev_distance_calc(i, j, n):\n",
    "    return max((n - i), (n - j))\n",
    "\n",
    "\n",
    "def manhattan_distance_calc(i, j, n):\n",
    "    return abs(n - i) + abs(n - j)\n",
    "\n",
    "def compute_hofn(n, heuristic):\n",
    "    \n",
    "    hofn_matrix = []\n",
    "    for i in range(n):\n",
    "        hofn_row = []\n",
    "        for j in range(n):\n",
    "            if heuristic == \"euclidean\":\n",
    "                dist = euclidean_distance_calc(i, j, n -1)\n",
    "            elif heuristic == \"chebyshev\":\n",
    "                dist = chebyshev_distance_calc(i, j, n -1)\n",
    "            elif heuristic == \"manhattan\":\n",
    "                dist = manhattan_distance_calc(i, j, n -1)\n",
    "            hofn_row.append(dist)\n",
    "        hofn_matrix.append(hofn_row)\n",
    "    return np.array(hofn_matrix)"
   ]
  },
  {
   "cell_type": "markdown",
   "id": "73a3d918",
   "metadata": {},
   "source": [
    "g(n) matrix"
   ]
  },
  {
   "cell_type": "code",
   "execution_count": 5,
   "id": "a04448c8",
   "metadata": {},
   "outputs": [],
   "source": [
    "def compute_gofn(n):\n",
    "    k = 0\n",
    "    gofn = []\n",
    "    one_row = []\n",
    "    for j in range(n):\n",
    "        one_row.append(k)\n",
    "        k += 1\n",
    "    gofn.append(one_row)\n",
    "    for i in range(n-1):\n",
    "        one_row = [x+1 for x in one_row]\n",
    "        gofn.append(one_row)\n",
    "\n",
    "    gofn_matrix = np.array([np.array(xi) for xi in gofn])\n",
    "    return gofn_matrix"
   ]
  },
  {
   "cell_type": "code",
   "execution_count": 6,
   "id": "90c3c156",
   "metadata": {},
   "outputs": [],
   "source": [
    "def get_gofn(gofn_matrix, row, col):\n",
    "    return gofn_matrix[row][col]"
   ]
  },
  {
   "cell_type": "code",
   "execution_count": 7,
   "id": "28965f92",
   "metadata": {},
   "outputs": [],
   "source": [
    "def get_children(matrix, row, col, n, gofn):\n",
    "    children = []\n",
    "    left_child_row = row\n",
    "    left_child_col = col + 1\n",
    "    down_child_row = row + 1\n",
    "    down_child_col = col\n",
    "    if left_child_row <= n-1 and left_child_row >=0 and left_child_col <=n-1 and left_child_col >=0:\n",
    "        children.append((left_child_row, left_child_col, gofn + 1))\n",
    "    if down_child_row <= n-1 and down_child_row >=0 and down_child_col <=n-1 and down_child_col >=0:\n",
    "        children.append((down_child_row, down_child_col,gofn + 1))\n",
    "    return children"
   ]
  },
  {
   "cell_type": "code",
   "execution_count": 8,
   "id": "45ee7eb2",
   "metadata": {},
   "outputs": [],
   "source": [
    "def sort(open_list, gofn_matrix, hofn_matrix):\n",
    "    sort_dict = {}\n",
    "    for node in open_list:\n",
    "        row = node[0]\n",
    "        col = node[1]\n",
    "        gofn = node[2]\n",
    "        #gofn = gofn_matrix.item(row,col)\n",
    "        hofn = hofn_matrix.item(row,col)\n",
    "        fofn =  gofn + hofn\n",
    "        print(\"node\", node, \" - gofn: \", gofn,  \" - hofn: \", hofn, \" - fofn: \", fofn)\n",
    "        sort_dict[node] = fofn\n",
    "        sort_dict = dict(sorted(sort_dict.items(), key=lambda item: item[1]))\n",
    "    return sort_dict"
   ]
  },
  {
   "cell_type": "code",
   "execution_count": 9,
   "id": "749bf5ef",
   "metadata": {},
   "outputs": [
    {
     "name": "stdout",
     "output_type": "stream",
     "text": [
      "current_node: (0, 0, 0)\n",
      "children [(0, 1, 1), (1, 0, 1)]\n",
      "node (0, 1, 1)  - gofn:  1  - hofn:  7  - fofn:  8\n",
      "node (1, 0, 1)  - gofn:  1  - hofn:  7  - fofn:  8\n",
      "sort_dict {(0, 1, 1): 8, (1, 0, 1): 8}\n",
      "updated open list:  [(0, 1, 1), (1, 0, 1)]\n",
      "---------------------\n",
      "\n",
      "current_node: (1, 0, 1)\n",
      "children [(1, 1, 2), (2, 0, 2)]\n",
      "node (0, 1, 1)  - gofn:  1  - hofn:  7  - fofn:  8\n",
      "node (1, 1, 2)  - gofn:  2  - hofn:  6  - fofn:  8\n",
      "node (2, 0, 2)  - gofn:  2  - hofn:  6  - fofn:  8\n",
      "sort_dict {(0, 1, 1): 8, (1, 1, 2): 8, (2, 0, 2): 8}\n",
      "updated open list:  [(0, 1, 1), (1, 1, 2), (2, 0, 2)]\n",
      "---------------------\n",
      "\n",
      "current_node: (2, 0, 2)\n",
      "path blocked from (2, 0, 2) backtracking and attempting to Traversing from a different node\n",
      "current_node: (1, 1, 2)\n",
      "children [(1, 2, 3), (2, 1, 3)]\n",
      "node (0, 1, 1)  - gofn:  1  - hofn:  7  - fofn:  8\n",
      "node (1, 2, 3)  - gofn:  3  - hofn:  5  - fofn:  8\n",
      "node (2, 1, 3)  - gofn:  3  - hofn:  5  - fofn:  8\n",
      "sort_dict {(0, 1, 1): 8, (1, 2, 3): 8, (2, 1, 3): 8}\n",
      "updated open list:  [(0, 1, 1), (1, 2, 3), (2, 1, 3)]\n",
      "---------------------\n",
      "\n",
      "current_node: (2, 1, 3)\n",
      "path blocked from (2, 1, 3) backtracking and attempting to Traversing from a different node\n",
      "current_node: (1, 2, 3)\n",
      "children [(1, 3, 4), (2, 2, 4)]\n",
      "node (0, 1, 1)  - gofn:  1  - hofn:  7  - fofn:  8\n",
      "node (1, 3, 4)  - gofn:  4  - hofn:  4  - fofn:  8\n",
      "node (2, 2, 4)  - gofn:  4  - hofn:  4  - fofn:  8\n",
      "sort_dict {(0, 1, 1): 8, (1, 3, 4): 8, (2, 2, 4): 8}\n",
      "updated open list:  [(0, 1, 1), (1, 3, 4), (2, 2, 4)]\n",
      "---------------------\n",
      "\n",
      "current_node: (2, 2, 4)\n",
      "children [(2, 3, 5), (3, 2, 5)]\n",
      "node (0, 1, 1)  - gofn:  1  - hofn:  7  - fofn:  8\n",
      "node (1, 3, 4)  - gofn:  4  - hofn:  4  - fofn:  8\n",
      "node (2, 3, 5)  - gofn:  5  - hofn:  3  - fofn:  8\n",
      "node (3, 2, 5)  - gofn:  5  - hofn:  3  - fofn:  8\n",
      "sort_dict {(0, 1, 1): 8, (1, 3, 4): 8, (2, 3, 5): 8, (3, 2, 5): 8}\n",
      "updated open list:  [(0, 1, 1), (1, 3, 4), (2, 3, 5), (3, 2, 5)]\n",
      "---------------------\n",
      "\n",
      "current_node: (3, 2, 5)\n",
      "children [(3, 3, 6), (4, 2, 6)]\n",
      "node (0, 1, 1)  - gofn:  1  - hofn:  7  - fofn:  8\n",
      "node (1, 3, 4)  - gofn:  4  - hofn:  4  - fofn:  8\n",
      "node (2, 3, 5)  - gofn:  5  - hofn:  3  - fofn:  8\n",
      "node (3, 3, 6)  - gofn:  6  - hofn:  2  - fofn:  8\n",
      "node (4, 2, 6)  - gofn:  6  - hofn:  2  - fofn:  8\n",
      "sort_dict {(0, 1, 1): 8, (1, 3, 4): 8, (2, 3, 5): 8, (3, 3, 6): 8, (4, 2, 6): 8}\n",
      "updated open list:  [(0, 1, 1), (1, 3, 4), (2, 3, 5), (3, 3, 6), (4, 2, 6)]\n",
      "---------------------\n",
      "\n",
      "current_node: (4, 2, 6)\n",
      "path blocked from (4, 2, 6) backtracking and attempting to Traversing from a different node\n",
      "current_node: (3, 3, 6)\n",
      "children [(3, 4, 7), (4, 3, 7)]\n",
      "node (0, 1, 1)  - gofn:  1  - hofn:  7  - fofn:  8\n",
      "node (1, 3, 4)  - gofn:  4  - hofn:  4  - fofn:  8\n",
      "node (2, 3, 5)  - gofn:  5  - hofn:  3  - fofn:  8\n",
      "node (3, 4, 7)  - gofn:  7  - hofn:  1  - fofn:  8\n",
      "node (4, 3, 7)  - gofn:  7  - hofn:  1  - fofn:  8\n",
      "sort_dict {(0, 1, 1): 8, (1, 3, 4): 8, (2, 3, 5): 8, (3, 4, 7): 8, (4, 3, 7): 8}\n",
      "updated open list:  [(0, 1, 1), (1, 3, 4), (2, 3, 5), (3, 4, 7), (4, 3, 7)]\n",
      "---------------------\n",
      "\n",
      "current_node: (4, 3, 7)\n",
      "children [(4, 4, 8)]\n",
      "node (0, 1, 1)  - gofn:  1  - hofn:  7  - fofn:  8\n",
      "node (1, 3, 4)  - gofn:  4  - hofn:  4  - fofn:  8\n",
      "node (2, 3, 5)  - gofn:  5  - hofn:  3  - fofn:  8\n",
      "node (3, 4, 7)  - gofn:  7  - hofn:  1  - fofn:  8\n",
      "node (4, 4, 8)  - gofn:  8  - hofn:  0  - fofn:  8\n",
      "sort_dict {(0, 1, 1): 8, (1, 3, 4): 8, (2, 3, 5): 8, (3, 4, 7): 8, (4, 4, 8): 8}\n",
      "updated open list:  [(0, 1, 1), (1, 3, 4), (2, 3, 5), (3, 4, 7), (4, 4, 8)]\n",
      "---------------------\n",
      "\n",
      "current_node: (4, 4, 8)\n",
      "Reached Goal!!!!!!!!!!!!!!!!!!!!!!!\n"
     ]
    }
   ],
   "source": [
    "visited_list = []\n",
    "open_list = []\n",
    "\n",
    "start = (0, 0, 0)\n",
    "goal = (n-1, n-1)\n",
    "\n",
    "open_list.append(start)\n",
    "# print(open_list)\n",
    "gofn_matrix = compute_gofn(n)\n",
    "# print(\"gofn_matrix\", gofn_matrix)\n",
    "hofn_matrix = compute_hofn(n, \"manhattan\")\n",
    "# print(\"hofn_matrix\", hofn_matrix)\n",
    "\n",
    "while open_list:\n",
    "    current_node = open_list.pop()\n",
    "    print(\"current_node:\", current_node)\n",
    "    if block_unblock_matrix.item(current_node[0], current_node[1]) == 0:\n",
    "        if current_node[0] == n-1 and current_node[1] == n-1:\n",
    "            print(\"Reached Goal!!!!!!!!!!!!!!!!!!!!!!!\")\n",
    "            break\n",
    "        visited_list.append(current_node)\n",
    "        children = get_children(block_unblock_matrix, current_node[0], current_node[1], n, current_node[2])\n",
    "        print(\"children\", children)\n",
    "        open_list.extend(children)\n",
    "        sort_dict = sort(open_list, gofn_matrix, hofn_matrix)\n",
    "        print(\"sort_dict\", sort_dict)\n",
    "        open_list = list(sort_dict.keys())\n",
    "        print(\"updated open list: \", open_list)\n",
    "        print(\"---------------------\\n\")\n",
    "    else:\n",
    "        if open_list == []:\n",
    "            print(\"There is no path available to goal Node\")\n",
    "            break\n",
    "        else:\n",
    "            print(\"path blocked from\", current_node, \"backtracking and attempting to Traversing from a different node\")"
   ]
  },
  {
   "cell_type": "code",
   "execution_count": null,
   "id": "d43514b0",
   "metadata": {},
   "outputs": [],
   "source": []
  },
  {
   "cell_type": "code",
   "execution_count": null,
   "id": "22abadbc",
   "metadata": {},
   "outputs": [],
   "source": []
  }
 ],
 "metadata": {
  "kernelspec": {
   "display_name": "Python 3 (ipykernel)",
   "language": "python",
   "name": "python3"
  },
  "language_info": {
   "codemirror_mode": {
    "name": "ipython",
    "version": 3
   },
   "file_extension": ".py",
   "mimetype": "text/x-python",
   "name": "python",
   "nbconvert_exporter": "python",
   "pygments_lexer": "ipython3",
   "version": "3.8.10"
  }
 },
 "nbformat": 4,
 "nbformat_minor": 5
}
