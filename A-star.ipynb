{
 "cells": [
  {
   "cell_type": "markdown",
   "id": "c1bea935",
   "metadata": {},
   "source": [
    "# A* Algo"
   ]
  },
  {
   "cell_type": "code",
   "execution_count": 1,
   "id": "01873204",
   "metadata": {},
   "outputs": [
    {
     "data": {
      "text/plain": [
       "matrix([[29, 93, 15, 57, 29, 95, 20,  8, 63, 17],\n",
       "        [97, 34, 86, 73, 61, 92, 16, 22, 18, 40],\n",
       "        [88, 16, 30, 69, 18, 85, 70, 72, 90, 96],\n",
       "        [34,  2,  8, 70, 59, 97, 23, 48, 18, 63],\n",
       "        [55, 42, 70, 87,  6, 29, 67,  7, 79, 71],\n",
       "        [ 1, 98, 64, 85, 67, 59, 74, 30, 55, 55],\n",
       "        [52, 86, 95, 24, 99, 28, 87, 23,  1, 51],\n",
       "        [ 3, 77, 88, 92, 63, 16, 81, 89, 98, 11],\n",
       "        [ 8, 69, 88, 77, 64, 55, 69, 11, 73, 45],\n",
       "        [ 4, 11, 83, 21, 86,  7, 47, 62, 47,  4]])"
      ]
     },
     "execution_count": 1,
     "metadata": {},
     "output_type": "execute_result"
    }
   ],
   "source": [
    "import numpy as np\n",
    "n = 10\n",
    "matrix = []\n",
    "block_unblock_matrix = []\n",
    "\n",
    "np_array = np.random.randint(0, 100, n*n).reshape(n, n)\n",
    "matrix = np.asmatrix(np_array)\n",
    "\n",
    "matrix"
   ]
  },
  {
   "cell_type": "code",
   "execution_count": 2,
   "id": "7dc92443",
   "metadata": {},
   "outputs": [
    {
     "data": {
      "text/plain": [
       "matrix([[0, 0, 0, 1, 0, 1, 1, 0, 1, 1],\n",
       "        [1, 1, 1, 1, 0, 0, 1, 1, 0, 1],\n",
       "        [1, 1, 1, 1, 1, 0, 1, 1, 1, 1],\n",
       "        [0, 0, 0, 1, 1, 0, 0, 1, 1, 0],\n",
       "        [0, 0, 0, 0, 0, 0, 1, 1, 1, 0],\n",
       "        [1, 0, 0, 0, 0, 1, 0, 1, 0, 1],\n",
       "        [0, 0, 0, 1, 0, 1, 1, 1, 0, 0],\n",
       "        [1, 1, 0, 0, 1, 1, 0, 1, 1, 0],\n",
       "        [0, 0, 0, 1, 0, 0, 0, 1, 1, 0],\n",
       "        [1, 1, 1, 0, 1, 0, 0, 0, 0, 0]])"
      ]
     },
     "execution_count": 2,
     "metadata": {},
     "output_type": "execute_result"
    }
   ],
   "source": [
    "np_array = np.random.randint(0, 2, n*n).reshape(n, n)\n",
    "block_unblock_matrix = np.asmatrix(np_array)\n",
    "\n",
    "block_unblock_matrix"
   ]
  },
  {
   "cell_type": "raw",
   "id": "78b5049f",
   "metadata": {},
   "source": [
    "h(n) matrix"
   ]
  },
  {
   "cell_type": "code",
   "execution_count": 3,
   "id": "0c983f63",
   "metadata": {
    "scrolled": true
   },
   "outputs": [],
   "source": [
    "# [[1 for j in range(n)] for i in range(n)]\n",
    "\n",
    "# hofn_matrix = list(np.array(np.arange(100).reshape((10,10))))\n",
    "# # np.fliplr(hofn_matrix)\n",
    "\n",
    "def compute_hofn(n):\n",
    "    k = 0\n",
    "    hofn = []\n",
    "    one_row = []\n",
    "    for j in range(n):\n",
    "        one_row.append(k)\n",
    "        k += 1\n",
    "\n",
    "    hofn.append(one_row)\n",
    "\n",
    "    for i in range(n-1):\n",
    "        one_row = [x+1 for x in one_row]\n",
    "        hofn.append(one_row)\n",
    "\n",
    "    hofn_matrix = np.array([np.array(xi) for xi in hofn])\n",
    "    hofn_matrix = np.flip(hofn_matrix)\n",
    "    return hofn_matrix"
   ]
  },
  {
   "cell_type": "markdown",
   "id": "709b1406",
   "metadata": {},
   "source": [
    "g(n) matrix"
   ]
  },
  {
   "cell_type": "code",
   "execution_count": 4,
   "id": "688abcf1",
   "metadata": {},
   "outputs": [],
   "source": [
    "def compute_gofn(n):\n",
    "    k = 0\n",
    "    gofn = []\n",
    "    one_row = []\n",
    "    for j in range(n):\n",
    "        one_row.append(k)\n",
    "        k += 1\n",
    "    gofn.append(one_row)\n",
    "    for i in range(n-1):\n",
    "        one_row = [x+1 for x in one_row]\n",
    "        gofn.append(one_row)\n",
    "\n",
    "    gofn_matrix = np.array([np.array(xi) for xi in gofn])\n",
    "    return gofn_matrix"
   ]
  },
  {
   "cell_type": "code",
   "execution_count": 5,
   "id": "01e3f4e7",
   "metadata": {},
   "outputs": [],
   "source": [
    "def get_gofn(gofn_matrix, row, col):\n",
    "    return gofn_matrix[row][col]"
   ]
  },
  {
   "cell_type": "code",
   "execution_count": 6,
   "id": "7e934554",
   "metadata": {},
   "outputs": [],
   "source": [
    "def get_hofn(hofn_matrix, row, col):\n",
    "    return hofn_matrix[row][col]"
   ]
  },
  {
   "cell_type": "code",
   "execution_count": 7,
   "id": "4c63ffbc",
   "metadata": {},
   "outputs": [],
   "source": [
    "def get_children(matrix, row, column, n):\n",
    "    children = []\n",
    "    if row == 0 and column == 0:\n",
    "        children.append((row+1,column))\n",
    "        children.append((row, column+1))\n",
    "    elif row == n-1 and column == n-1:\n",
    "        print(\"goal node doesn't have children\")\n",
    "    elif row == n-1:\n",
    "        children.append((row, column+1))\n",
    "    elif column == n-1:\n",
    "        children.append((row+1, column))\n",
    "    else:\n",
    "        children.append((row+1, column))\n",
    "        children.append((row, column+1))\n",
    "    return children "
   ]
  },
  {
   "cell_type": "code",
   "execution_count": 8,
   "id": "1f43e087",
   "metadata": {},
   "outputs": [],
   "source": [
    "def sort(open_list, gofn_matrix, hofn_matrix):\n",
    "    sort_dict = {}\n",
    "    for node in open_list:\n",
    "        row = node[0]\n",
    "        col = node[1]\n",
    "        gofn = gofn_matrix.item(row,col)\n",
    "        hofn = hofn_matrix.item(row,col)\n",
    "        print(\"node\", node, \" - gofn: \", gofn,  \" - hofn: \", hofn)\n",
    "#         fofn = gofn + hofn\n",
    "#         print(\"fofn: \", fofn)\n",
    "        sort_dict[node] = hofn\n",
    "        sort_dict = dict(sorted(sort_dict.items(), key=lambda item: item[1]))\n",
    "    return sort_dict"
   ]
  },
  {
   "cell_type": "code",
   "execution_count": 9,
   "id": "2fe49f1b",
   "metadata": {},
   "outputs": [
    {
     "name": "stdout",
     "output_type": "stream",
     "text": [
      "current_node: (0, 0)\n",
      "children [(1, 0), (0, 1)]\n",
      "node (1, 0)  - gofn:  1  - hofn:  17\n",
      "node (0, 1)  - gofn:  1  - hofn:  17\n",
      "open_list [(1, 0), (0, 1)]\n",
      "sort_dict {(1, 0): 17, (0, 1): 17}\n",
      "---------------------\n",
      "\n",
      "current_node: (0, 1)\n",
      "children [(1, 1), (0, 2)]\n",
      "node (1, 0)  - gofn:  1  - hofn:  17\n",
      "node (1, 1)  - gofn:  2  - hofn:  16\n",
      "node (0, 2)  - gofn:  2  - hofn:  16\n",
      "open_list [(1, 0), (1, 1), (0, 2)]\n",
      "sort_dict {(1, 1): 16, (0, 2): 16, (1, 0): 17}\n",
      "---------------------\n",
      "\n",
      "current_node: (0, 2)\n",
      "children [(1, 2), (0, 3)]\n",
      "node (1, 0)  - gofn:  1  - hofn:  17\n",
      "node (1, 1)  - gofn:  2  - hofn:  16\n",
      "node (1, 2)  - gofn:  3  - hofn:  15\n",
      "node (0, 3)  - gofn:  3  - hofn:  15\n",
      "open_list [(1, 0), (1, 1), (1, 2), (0, 3)]\n",
      "sort_dict {(1, 2): 15, (0, 3): 15, (1, 1): 16, (1, 0): 17}\n",
      "---------------------\n",
      "\n",
      "current_node: (0, 3)\n",
      "path blocked. Cannot traverse to goal node\n"
     ]
    }
   ],
   "source": [
    "visited_list = []\n",
    "open_list = []\n",
    "\n",
    "start = (0,0)\n",
    "goal = (n-1, n-1)\n",
    "\n",
    "open_list.append(start)\n",
    "# print(open_list)\n",
    "gofn_matrix = compute_gofn(n)\n",
    "# print(\"gofn_matrix\", gofn_matrix)\n",
    "hofn_matrix = compute_hofn(n)\n",
    "# print(\"hofn_matrix\", hofn_matrix)\n",
    "\n",
    "while open_list:\n",
    "    current_node = open_list.pop()\n",
    "    print(\"current_node:\", current_node)\n",
    "    if block_unblock_matrix.item(current_node) == 0:\n",
    "        visited_list.append(current_node)\n",
    "        children = get_children(block_unblock_matrix, current_node[0], current_node[1], n)\n",
    "        print(\"children\", children)\n",
    "        open_list.extend(children)\n",
    "        sort_dict = sort(open_list, gofn_matrix, hofn_matrix)\n",
    "        print(\"open_list\", open_list)\n",
    "        print(\"sort_dict\", sort_dict)\n",
    "        print(\"---------------------\\n\")\n",
    "    else:\n",
    "        print(\"path blocked. Cannot traverse to goal node\")\n",
    "        break"
   ]
  },
  {
   "cell_type": "code",
   "execution_count": null,
   "id": "6c94e3a1",
   "metadata": {},
   "outputs": [],
   "source": []
  },
  {
   "cell_type": "code",
   "execution_count": null,
   "id": "bbd6212d",
   "metadata": {},
   "outputs": [],
   "source": []
  }
 ],
 "metadata": {
  "kernelspec": {
   "display_name": "Python 3",
   "language": "python",
   "name": "python3"
  },
  "language_info": {
   "codemirror_mode": {
    "name": "ipython",
    "version": 3
   },
   "file_extension": ".py",
   "mimetype": "text/x-python",
   "name": "python",
   "nbconvert_exporter": "python",
   "pygments_lexer": "ipython3",
   "version": "3.8.8"
  }
 },
 "nbformat": 4,
 "nbformat_minor": 5
}
