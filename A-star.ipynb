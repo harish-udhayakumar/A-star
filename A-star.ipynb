{
 "cells": [
  {
   "cell_type": "markdown",
   "id": "b19ad0de",
   "metadata": {},
   "source": [
    "# A* Algo"
   ]
  },
  {
   "cell_type": "code",
   "execution_count": 1,
   "id": "c93ea6cb",
   "metadata": {},
   "outputs": [],
   "source": [
    "import numpy as np\n",
    "import matplotlib.pyplot as plt\n",
    "from matplotlib import colors\n",
    "import math\n",
    "\n",
    "n = 5\n",
    "matrix = []\n",
    "block_unblock_matrix = []\n"
   ]
  },
  {
   "cell_type": "code",
   "execution_count": 2,
   "id": "e029af02",
   "metadata": {},
   "outputs": [],
   "source": [
    "def euclidean_distance_calc(i, j, n):\n",
    "    return math.sqrt(((n - i)**2 + (n - j)**2))\n",
    "\n",
    "def chebyshev_distance_calc(i, j, n):\n",
    "    return max((n - i), (n - j))\n",
    "\n",
    "\n",
    "def manhattan_distance_calc(i, j, n):\n",
    "    return abs(n - i) + abs(n - j)\n",
    "\n",
    "def compute_hofn(n, heuristic):\n",
    "    \n",
    "    hofn_matrix = []\n",
    "    for i in range(n):\n",
    "        hofn_row = []\n",
    "        for j in range(n):\n",
    "            if heuristic == \"euclidean\":\n",
    "                dist = euclidean_distance_calc(i, j, n -1)\n",
    "            elif heuristic == \"chebyshev\":\n",
    "                dist = chebyshev_distance_calc(i, j, n -1)\n",
    "            elif heuristic == \"manhattan\":\n",
    "                dist = manhattan_distance_calc(i, j, n -1)\n",
    "            hofn_row.append(dist)\n",
    "        hofn_matrix.append(hofn_row)\n",
    "    return np.array(hofn_matrix)"
   ]
  },
  {
   "cell_type": "code",
   "execution_count": 3,
   "id": "5f5f27b3",
   "metadata": {},
   "outputs": [
    {
     "data": {
      "text/plain": [
       "<matplotlib.image.AxesImage at 0x2d4884e9520>"
      ]
     },
     "execution_count": 3,
     "metadata": {},
     "output_type": "execute_result"
    },
    {
     "data": {
      "image/png": "[encoded data removed]",
      "text/plain": [
       "<Figure size 432x288 with 1 Axes>"
      ]
     },
     "metadata": {
      "needs_background": "light"
     },
     "output_type": "display_data"
    }
   ],
   "source": [
    "def populateMatrix(n,p):\n",
    "    np_array = np.random.rand(n*n)\n",
    "    block = lambda x: 0 if x>=p else 1\n",
    "    vectorized_block = np.vectorize(block)\n",
    "    np_array = vectorized_block(np_array).reshape(n,n)\n",
    "    np_array[0,0]=0\n",
    "    np_array[n-1,n-1] =0\n",
    "    return np_array\n",
    "\n",
    "np_array = populateMatrix(n,0.5)\n",
    "block_unblock_matrix = np.asmatrix(np_array)\n",
    "\n",
    "plt.spy(block_unblock_matrix)"
   ]
  },
  {
   "cell_type": "code",
   "execution_count": 4,
   "id": "d5d0b0fa",
   "metadata": {},
   "outputs": [
    {
     "data": {
      "text/plain": [
       "[(0, 0, 0),\n",
       " (1, 0, 1),\n",
       " (0, 1, 1),\n",
       " (0, 2, 2),\n",
       " (2, 0, 2),\n",
       " (1, 1, 2),\n",
       " (3, 0, 3),\n",
       " (2, 1, 3),\n",
       " (1, 2, 3),\n",
       " (0, 3, 3),\n",
       " (0, 4, 4),\n",
       " (1, 3, 4),\n",
       " (2, 2, 4),\n",
       " (4, 0, 4),\n",
       " (3, 1, 4),\n",
       " (4, 1, 5),\n",
       " (3, 2, 5),\n",
       " (2, 3, 5),\n",
       " (1, 4, 5),\n",
       " (2, 4, 6),\n",
       " (3, 3, 6),\n",
       " (4, 2, 6),\n",
       " (4, 3, 7)]"
      ]
     },
     "execution_count": 4,
     "metadata": {},
     "output_type": "execute_result"
    }
   ],
   "source": [
    "[(0, 0, 0), (1, 0, 1), (0, 1, 1), (0, 2, 2), (2, 0, 2), (1, 1, 2), (3, 0, 3), (2, 1, 3), (1, 2, 3), (0, 3, 3), (0, 4, 4), (1, 3, 4), (2, 2, 4), (4, 0, 4), (3, 1, 4), (4, 1, 5), (3, 2, 5), (2, 3, 5), (1, 4, 5), (2, 4, 6), (3, 3, 6), (4, 2, 6), (4, 3, 7)]"
   ]
  },
  {
   "cell_type": "raw",
   "id": "0d5c63ca",
   "metadata": {},
   "source": [
    "h(n) matrix"
   ]
  },
  {
   "cell_type": "code",
   "execution_count": 5,
   "id": "e2197627",
   "metadata": {
    "scrolled": true
   },
   "outputs": [],
   "source": [
    "# [[1 for j in range(n)] for i in range(n)]\n",
    "\n",
    "# hofn_matrix = list(np.array(np.arange(100).reshape((10,10))))\n",
    "# # np.fliplr(hofn_matrix)\n",
    "\n",
    "# def compute_hofn(n):\n",
    "#     k = 0\n",
    "#     hofn = []\n",
    "#     one_row = []\n",
    "#     for j in range(n):\n",
    "#         one_row.append(k)\n",
    "#         k += 1\n",
    "\n",
    "#     hofn.append(one_row)\n",
    "\n",
    "#     for i in range(n-1):\n",
    "#         one_row = [x+1 for x in one_row]\n",
    "#         hofn.append(one_row)\n",
    "\n",
    "#     hofn_matrix = np.array([np.array(xi) for xi in hofn])\n",
    "#     hofn_matrix = np.flip(hofn_matrix)\n",
    "#     return hofn_matrix"
   ]
  },
  {
   "cell_type": "markdown",
   "id": "c61309f6",
   "metadata": {},
   "source": [
    "g(n) matrix"
   ]
  },
  {
   "cell_type": "code",
   "execution_count": 6,
   "id": "b0e2eb92",
   "metadata": {},
   "outputs": [],
   "source": [
    "def compute_gofn(n):\n",
    "    k = 0\n",
    "    gofn = []\n",
    "    one_row = []\n",
    "    for j in range(n):\n",
    "        one_row.append(k)\n",
    "        k += 1\n",
    "    gofn.append(one_row)\n",
    "    for i in range(n-1):\n",
    "        one_row = [x+1 for x in one_row]\n",
    "        gofn.append(one_row)\n",
    "\n",
    "    gofn_matrix = np.array([np.array(xi) for xi in gofn])\n",
    "    return gofn_matrix"
   ]
  },
  {
   "cell_type": "code",
   "execution_count": 7,
   "id": "148bff9c",
   "metadata": {},
   "outputs": [],
   "source": [
    "def get_gofn(gofn_matrix, row, col):\n",
    "    return gofn_matrix[row][col]"
   ]
  },
  {
   "cell_type": "code",
   "execution_count": 8,
   "id": "fee74c1d",
   "metadata": {},
   "outputs": [],
   "source": [
    "def get_hofn(hofn_matrix, row, col):\n",
    "    return hofn_matrix[row][col]"
   ]
  },
  {
   "cell_type": "code",
   "execution_count": 9,
   "id": "65717f50",
   "metadata": {},
   "outputs": [],
   "source": [
    "# def get_children(matrix, row, column, n):\n",
    "#     children = []\n",
    "#     if row == 0 and column == 0:\n",
    "#         children.append((row+1,column))\n",
    "#         children.append((row, column+1))\n",
    "#     elif row == n-1 and column == n-1:\n",
    "#         print(\"goal node doesn't have children\")\n",
    "#     elif row == n-1:\n",
    "#         children.append((row, column+1))\n",
    "#     elif column == n-1:\n",
    "#         children.append((row+1, column))\n",
    "#     else:\n",
    "#         children.append((row+1, column))\n",
    "#         children.append((row, column+1))\n",
    "#     return children \n",
    "\n",
    "def get_children(matrix, row, col, n, gofn):\n",
    "    children = []\n",
    "    left_child_row = row\n",
    "    left_child_col = col + 1\n",
    "    down_child_row = row + 1\n",
    "    down_child_col = col\n",
    "    if left_child_row <= n-1 and left_child_row >=0 and left_child_col <=n-1 and left_child_col >=0:\n",
    "        children.append((left_child_row, left_child_col, gofn + 1))\n",
    "    if down_child_row <= n-1 and down_child_row >=0 and down_child_col <=n-1 and down_child_col >=0:\n",
    "        children.append((down_child_row, down_child_col,gofn + 1))\n",
    "    return children"
   ]
  },
  {
   "cell_type": "code",
   "execution_count": 10,
   "id": "946ffd37",
   "metadata": {},
   "outputs": [],
   "source": [
    "def sort(open_list, gofn_matrix, hofn_matrix):\n",
    "    sort_dict = {}\n",
    "    for node in open_list:\n",
    "        print(node)\n",
    "        row = node[0]\n",
    "        col = node[1]\n",
    "        gofn = gofn_matrix.item(row,col)\n",
    "        hofn = hofn_matrix.item(row,col)\n",
    "        print(\"node\", node, \" - gofn: \", gofn,  \" - hofn: \", hofn)\n",
    "#         fofn = gofn + hofn\n",
    "#         print(\"fofn: \", fofn)\n",
    "        sort_dict[node] = hofn\n",
    "        sort_dict = dict(sorted(sort_dict.items(), key=lambda item: item[1]))\n",
    "    return sort_dict"
   ]
  },
  {
   "cell_type": "code",
   "execution_count": 11,
   "id": "fb28e40d",
   "metadata": {
    "scrolled": false
   },
   "outputs": [],
   "source": [
    "# visited_list = []\n",
    "# open_list = []\n",
    "# trajectory_path = []\n",
    "\n",
    "# start = (0,0)\n",
    "# goal = (n-1, n-1)\n",
    "\n",
    "# open_list.append(start)\n",
    "# # print(open_list)\n",
    "# gofn_matrix = compute_gofn(n)\n",
    "# # print(\"gofn_matrix\", gofn_matrix)\n",
    "# hofn_matrix = compute_hofn(n)\n",
    "# # print(\"hofn_matrix\", hofn_matrix)\n",
    "\n",
    "# while open_list:\n",
    "#     current_node = open_list.pop()\n",
    "#     if current_node == (n-1,n-1):\n",
    "#         print(\"goal node reached. The path is:\", trajectory_path)\n",
    "#         break\n",
    "#     print(\"current_node:\", current_node)\n",
    "#     if block_unblock_matrix.item(current_node) == 0:\n",
    "#         visited_list.append(current_node)\n",
    "#         trajectory_path.append(current_node)\n",
    "#         children = get_children(block_unblock_matrix, current_node[0], current_node[1], n)\n",
    "#         print(\"children\", children)\n",
    "#         open_list.extend(children)\n",
    "#         sort_dict = sort(open_list, gofn_matrix, hofn_matrix)\n",
    "#         print(\"sort_dict\", sort_dict)\n",
    "#         open_list = list(sort_dict.keys())\n",
    "#         print(\"updated open list: \", open_list)\n",
    "#         print(\"trajectory_path: \", trajectory_path)\n",
    "#         print(\"---------------------\\n\")\n",
    "#     else:\n",
    "#         if open_list == []:\n",
    "#             print(\"There is no path available to goal Node\")\n",
    "#             break\n",
    "#         else:\n",
    "#             print(\"path blocked from\", current_node, \"backtracking and attempting to Traversing from a different node\")\n",
    "#             if current_node in trajectory_path:\n",
    "#                 trajectory_path.remove(current_node)"
   ]
  },
  {
   "cell_type": "code",
   "execution_count": 12,
   "id": "2e1d64b6",
   "metadata": {},
   "outputs": [
    {
     "name": "stdout",
     "output_type": "stream",
     "text": [
      "current_node: (0, 0, 0)\n",
      "children [(0, 1, 1), (1, 0, 1)]\n",
      "(0, 1, 1)\n",
      "node (0, 1, 1)  - gofn:  1  - hofn:  7\n",
      "(1, 0, 1)\n",
      "node (1, 0, 1)  - gofn:  1  - hofn:  7\n",
      "sort_dict {(0, 1, 1): 7, (1, 0, 1): 7}\n",
      "updated open list:  [(0, 1, 1), (1, 0, 1)]\n",
      "trajectory_path:  [(0, 0, 0)]\n",
      "---------------------\n",
      "\n",
      "current_node: (1, 0, 1)\n",
      "children [(1, 1, 2), (2, 0, 2)]\n",
      "(0, 1, 1)\n",
      "node (0, 1, 1)  - gofn:  1  - hofn:  7\n",
      "(1, 1, 2)\n",
      "node (1, 1, 2)  - gofn:  2  - hofn:  6\n",
      "(2, 0, 2)\n",
      "node (2, 0, 2)  - gofn:  2  - hofn:  6\n",
      "sort_dict {(1, 1, 2): 6, (2, 0, 2): 6, (0, 1, 1): 7}\n",
      "updated open list:  [(1, 1, 2), (2, 0, 2), (0, 1, 1)]\n",
      "trajectory_path:  [(0, 0, 0), (1, 0, 1)]\n",
      "---------------------\n",
      "\n",
      "current_node: (0, 1, 1)\n",
      "children [(0, 2, 2), (1, 1, 2)]\n",
      "(1, 1, 2)\n",
      "node (1, 1, 2)  - gofn:  2  - hofn:  6\n",
      "(2, 0, 2)\n",
      "node (2, 0, 2)  - gofn:  2  - hofn:  6\n",
      "(0, 2, 2)\n",
      "node (0, 2, 2)  - gofn:  2  - hofn:  6\n",
      "(1, 1, 2)\n",
      "node (1, 1, 2)  - gofn:  2  - hofn:  6\n",
      "sort_dict {(1, 1, 2): 6, (2, 0, 2): 6, (0, 2, 2): 6}\n",
      "updated open list:  [(1, 1, 2), (2, 0, 2), (0, 2, 2)]\n",
      "trajectory_path:  [(0, 0, 0), (1, 0, 1), (0, 1, 1)]\n",
      "---------------------\n",
      "\n",
      "current_node: (0, 2, 2)\n",
      "path blocked from (0, 2, 2) backtracking and attempting to Traversing from a different node\n",
      "current_node: (2, 0, 2)\n",
      "children [(2, 1, 3), (3, 0, 3)]\n",
      "(1, 1, 2)\n",
      "node (1, 1, 2)  - gofn:  2  - hofn:  6\n",
      "(2, 1, 3)\n",
      "node (2, 1, 3)  - gofn:  3  - hofn:  5\n",
      "(3, 0, 3)\n",
      "node (3, 0, 3)  - gofn:  3  - hofn:  5\n",
      "sort_dict {(2, 1, 3): 5, (3, 0, 3): 5, (1, 1, 2): 6}\n",
      "updated open list:  [(2, 1, 3), (3, 0, 3), (1, 1, 2)]\n",
      "trajectory_path:  [(0, 0, 0), (1, 0, 1), (0, 1, 1), (2, 0, 2)]\n",
      "---------------------\n",
      "\n",
      "current_node: (1, 1, 2)\n",
      "path blocked from (1, 1, 2) backtracking and attempting to Traversing from a different node\n",
      "current_node: (3, 0, 3)\n",
      "children [(3, 1, 4), (4, 0, 4)]\n",
      "(2, 1, 3)\n",
      "node (2, 1, 3)  - gofn:  3  - hofn:  5\n",
      "(3, 1, 4)\n",
      "node (3, 1, 4)  - gofn:  4  - hofn:  4\n",
      "(4, 0, 4)\n",
      "node (4, 0, 4)  - gofn:  4  - hofn:  4\n",
      "sort_dict {(3, 1, 4): 4, (4, 0, 4): 4, (2, 1, 3): 5}\n",
      "updated open list:  [(3, 1, 4), (4, 0, 4), (2, 1, 3)]\n",
      "trajectory_path:  [(0, 0, 0), (1, 0, 1), (0, 1, 1), (2, 0, 2), (3, 0, 3)]\n",
      "---------------------\n",
      "\n",
      "current_node: (2, 1, 3)\n",
      "path blocked from (2, 1, 3) backtracking and attempting to Traversing from a different node\n",
      "current_node: (4, 0, 4)\n",
      "children [(4, 1, 5)]\n",
      "(3, 1, 4)\n",
      "node (3, 1, 4)  - gofn:  4  - hofn:  4\n",
      "(4, 1, 5)\n",
      "node (4, 1, 5)  - gofn:  5  - hofn:  3\n",
      "sort_dict {(4, 1, 5): 3, (3, 1, 4): 4}\n",
      "updated open list:  [(4, 1, 5), (3, 1, 4)]\n",
      "trajectory_path:  [(0, 0, 0), (1, 0, 1), (0, 1, 1), (2, 0, 2), (3, 0, 3), (4, 0, 4)]\n",
      "---------------------\n",
      "\n",
      "current_node: (3, 1, 4)\n",
      "children [(3, 2, 5), (4, 1, 5)]\n",
      "(4, 1, 5)\n",
      "node (4, 1, 5)  - gofn:  5  - hofn:  3\n",
      "(3, 2, 5)\n",
      "node (3, 2, 5)  - gofn:  5  - hofn:  3\n",
      "(4, 1, 5)\n",
      "node (4, 1, 5)  - gofn:  5  - hofn:  3\n",
      "sort_dict {(4, 1, 5): 3, (3, 2, 5): 3}\n",
      "updated open list:  [(4, 1, 5), (3, 2, 5)]\n",
      "trajectory_path:  [(0, 0, 0), (1, 0, 1), (0, 1, 1), (2, 0, 2), (3, 0, 3), (4, 0, 4), (3, 1, 4)]\n",
      "---------------------\n",
      "\n",
      "current_node: (3, 2, 5)\n",
      "children [(3, 3, 6), (4, 2, 6)]\n",
      "(4, 1, 5)\n",
      "node (4, 1, 5)  - gofn:  5  - hofn:  3\n",
      "(3, 3, 6)\n",
      "node (3, 3, 6)  - gofn:  6  - hofn:  2\n",
      "(4, 2, 6)\n",
      "node (4, 2, 6)  - gofn:  6  - hofn:  2\n",
      "sort_dict {(3, 3, 6): 2, (4, 2, 6): 2, (4, 1, 5): 3}\n",
      "updated open list:  [(3, 3, 6), (4, 2, 6), (4, 1, 5)]\n",
      "trajectory_path:  [(0, 0, 0), (1, 0, 1), (0, 1, 1), (2, 0, 2), (3, 0, 3), (4, 0, 4), (3, 1, 4), (3, 2, 5)]\n",
      "---------------------\n",
      "\n",
      "current_node: (4, 1, 5)\n",
      "children [(4, 2, 6)]\n",
      "(3, 3, 6)\n",
      "node (3, 3, 6)  - gofn:  6  - hofn:  2\n",
      "(4, 2, 6)\n",
      "node (4, 2, 6)  - gofn:  6  - hofn:  2\n",
      "(4, 2, 6)\n",
      "node (4, 2, 6)  - gofn:  6  - hofn:  2\n",
      "sort_dict {(3, 3, 6): 2, (4, 2, 6): 2}\n",
      "updated open list:  [(3, 3, 6), (4, 2, 6)]\n",
      "trajectory_path:  [(0, 0, 0), (1, 0, 1), (0, 1, 1), (2, 0, 2), (3, 0, 3), (4, 0, 4), (3, 1, 4), (3, 2, 5), (4, 1, 5)]\n",
      "---------------------\n",
      "\n",
      "current_node: (4, 2, 6)\n",
      "path blocked from (4, 2, 6) backtracking and attempting to Traversing from a different node\n",
      "current_node: (3, 3, 6)\n",
      "There is no path available to goal Node\n"
     ]
    }
   ],
   "source": [
    "visited_list = []\n",
    "open_list = []\n",
    "trajectory_path = []\n",
    "\n",
    "start = (0, 0, 0)\n",
    "goal = (n-1, n-1)\n",
    "\n",
    "open_list.append(start)\n",
    "# print(open_list)\n",
    "gofn_matrix = compute_gofn(n)\n",
    "# print(\"gofn_matrix\", gofn_matrix)\n",
    "hofn_matrix = compute_hofn(n, \"manhattan\")\n",
    "# print(\"hofn_matrix\", hofn_matrix)\n",
    "\n",
    "\n",
    "while open_list:\n",
    "    current_node = open_list.pop()\n",
    "    print(\"current_node:\", current_node)\n",
    "    if block_unblock_matrix.item(current_node[0], current_node[1]) == 0:\n",
    "        if current_node[0] == n-1 and current_node[1] == n-1:\n",
    "            print(\"Reached Goal!!!!!!!!!!!!!!!!!!!!!!!\")\n",
    "            break\n",
    "        visited_list.append(current_node)\n",
    "        trajectory_path.append(current_node)\n",
    "        children = get_children(block_unblock_matrix, current_node[0], current_node[1], n, current_node[2])\n",
    "        print(\"children\", children)\n",
    "        open_list.extend(children)\n",
    "        sort_dict = sort(open_list, gofn_matrix, hofn_matrix)\n",
    "        print(\"sort_dict\", sort_dict)\n",
    "        open_list = list(sort_dict.keys())\n",
    "        print(\"updated open list: \", open_list)\n",
    "        print(\"trajectory_path: \", trajectory_path)\n",
    "        print(\"---------------------\\n\")\n",
    "    else:\n",
    "        if open_list == []:\n",
    "            print(\"There is no path available to goal Node\")\n",
    "            break\n",
    "        else:\n",
    "            print(\"path blocked from\", current_node, \"backtracking and attempting to Traversing from a different node\")\n",
    "            if current_node in trajectory_path:\n",
    "                trajectory_path.remove(current_node)"
   ]
  },
  {
   "cell_type": "code",
   "execution_count": 13,
   "id": "734290ed",
   "metadata": {},
   "outputs": [],
   "source": [
    "np_array = populateMatrix(n,0)\n",
    "block_unblock_matrix = np.asmatrix(np_array)"
   ]
  },
  {
   "cell_type": "code",
   "execution_count": 14,
   "id": "23d3863b",
   "metadata": {
    "scrolled": true
   },
   "outputs": [
    {
     "data": {
      "image/png": "[encoded data removed]",
      "text/plain": [
       "<Figure size 432x288 with 1 Axes>"
      ]
     },
     "metadata": {
      "needs_background": "light"
     },
     "output_type": "display_data"
    }
   ],
   "source": [
    "np_array\n",
    "for path in trajectory_path:\n",
    "    \n",
    "    block_unblock_matrix[path[:2]] = 1\n",
    "\n",
    "colormap = colors.ListedColormap([\"white\",\"blue\"])\n",
    "plt.imshow(block_unblock_matrix, cmap=colormap)\n",
    "plt.show()"
   ]
  },
  {
   "cell_type": "raw",
   "id": "fad5c66c",
   "metadata": {},
   "source": [
    "children in all 4 directions (not to consider blocked children)\n",
    "consider visited children if fofn < previous\n",
    "trajectory path correction\n",
    "question 6 field of view -  can be done later\n",
    "\n",
    "improvise to repeated a*"
   ]
  },
  {
   "cell_type": "code",
   "execution_count": null,
   "id": "43802596",
   "metadata": {},
   "outputs": [],
   "source": []
  }
 ],
 "metadata": {
  "kernelspec": {
   "display_name": "Python 3",
   "language": "python",
   "name": "python3"
  },
  "language_info": {
   "codemirror_mode": {
    "name": "ipython",
    "version": 3
   },
   "file_extension": ".py",
   "mimetype": "text/x-python",
   "name": "python",
   "nbconvert_exporter": "python",
   "pygments_lexer": "ipython3",
   "version": "3.8.8"
  }
 },
 "nbformat": 4,
 "nbformat_minor": 5
}
