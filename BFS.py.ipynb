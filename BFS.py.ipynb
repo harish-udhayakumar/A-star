{
 "cells": [
  {
   "cell_type": "code",
   "execution_count": null,
   "id": "9c31c5f4",
   "metadata": {},
   "outputs": [],
   "source": [
    "# Python3 Program to print BFS traversal\n",
    "# from a given source vertex. BFS(int s)\n",
    "# traverses vertices reachable from s.\n",
    "from collections import defaultdict\n",
    "\n",
    "# This class represents a directed graph\n",
    "# using adjacency list representation\n",
    "class Graph:\n",
    "\n",
    "    # Constructor\n",
    "    def __init__(self):\n",
    "\n",
    "        # default dictionary to store graph\n",
    "        self.graph = defaultdict(list)\n",
    "\n",
    "    # function to add an edge to graph\n",
    "    def addEdge(self,u,v):\n",
    "        self.graph[u].append(v)\n",
    "\n",
    "    # Function to print a BFS of graph\n",
    "    def BFS(self, s):\n",
    "        print(max(self.graph))\n",
    "        # Mark all the vertices as not visited\n",
    "        visited = [False] * (max(self.graph) + 1)\n",
    "\n",
    "        # Create a queue for BFS\n",
    "        queue = []\n",
    "\n",
    "        # Mark the source node as\n",
    "        # visited and enqueue it\n",
    "        queue.append(s)\n",
    "        visited[s] = True\n",
    "\n",
    "        while queue:\n",
    "\n",
    "            # Dequeue a vertex from\n",
    "            # queue and print it\n",
    "            s = queue.pop(0)\n",
    "            print (s, end = \" \")\n",
    "\n",
    "            # Get all adjacent vertices of the\n",
    "            # dequeued vertex s. If a adjacent\n",
    "            # has not been visited, then mark it\n",
    "            # visited and enqueue it\n",
    "            for i in self.graph[s]:\n",
    "                if visited[i] == False:\n",
    "                    queue.append(i)\n",
    "                    visited[i] = True\n",
    "\n",
    "# Driver code\n",
    "\n",
    "# Create a graph given in\n",
    "# the above diagram\n",
    "g = Graph()\n",
    "# g.addEdge(0, 1)\n",
    "# g.addEdge(0, 2)\n",
    "# g.addEdge(1, 2)\n",
    "# g.addEdge(2, 0)\n",
    "# g.addEdge(2, 3)\n",
    "# g.addEdge(3, 3)\n",
    "\n",
    "# print (\"Following is Breadth First Traversal (starting from vertex 2)\")\n",
    "# g.BFS(2)\n",
    "\n",
    "# This code is contributed by Neelam Yadav\n"
   ]
  },
  {
   "cell_type": "markdown",
   "id": "c1bea935",
   "metadata": {},
   "source": [
    "# A* Algo"
   ]
  },
  {
   "cell_type": "code",
   "execution_count": null,
   "id": "5e0980b7",
   "metadata": {},
   "outputs": [],
   "source": [
    "# from collections import deque\n",
    " \n",
    "# class Graph:\n",
    "#     def __init__(self, adjac_lis):\n",
    "#         self.adjac_lis = adjac_lis\n",
    " \n",
    "#     def get_neighbors(self, v):\n",
    "#         return self.adjac_lis[v]\n",
    " \n",
    "#     # This is heuristic function which is having equal values for all nodes\n",
    "#     def h(self, n):\n",
    "#         H = {\n",
    "#             'A': 1,\n",
    "#             'B': 1,\n",
    "#             'C': 1,\n",
    "#             'D': 1\n",
    "#         }\n",
    " \n",
    "#         return H[n]\n",
    " \n",
    "#     def a_star_algorithm(self, start, stop):\n",
    "#         # In this open_lst is a lisy of nodes which have been visited, but who's \n",
    "#         # neighbours haven't all been always inspected, It starts off with the start \n",
    "#   #node\n",
    "#         # And closed_lst is a list of nodes which have been visited\n",
    "#         # and who's neighbors have been always inspected\n",
    "#         open_lst = set([start])\n",
    "#         closed_lst = set([])\n",
    " \n",
    "#         # poo has present distances from start to all other nodes\n",
    "#         # the default value is +infinity\n",
    "#         poo = {}\n",
    "#         poo[start] = 0\n",
    " \n",
    "#         # par contains an adjac mapping of all nodes\n",
    "#         par = {}\n",
    "#         par[start] = start\n",
    " \n",
    "#         while len(open_lst) > 0:\n",
    "#             n = None\n",
    " \n",
    "#             # it will find a node with the lowest value of f() -\n",
    "#             for v in open_lst:\n",
    "#                 if n == None or poo[v] + self.h(v) < poo[n] + self.h(n):\n",
    "#                     n = v;\n",
    " \n",
    "#             if n == None:\n",
    "#                 print('Path does not exist!')\n",
    "#                 return None\n",
    " \n",
    "#             # if the current node is the stop\n",
    "#             # then we start again from start\n",
    "#             if n == stop:\n",
    "#                 reconst_path = []\n",
    " \n",
    "#                 while par[n] != n:\n",
    "#                     reconst_path.append(n)\n",
    "#                     n = par[n]\n",
    " \n",
    "#                 reconst_path.append(start)\n",
    " \n",
    "#                 reconst_path.reverse()\n",
    " \n",
    "#                 print('Path found: {}'.format(reconst_path))\n",
    "#                 return reconst_path\n",
    " \n",
    "#             # for all the neighbors of the current node do\n",
    "#             for (m, weight) in self.get_neighbors(n):\n",
    "#               # if the current node is not presentin both open_lst and closed_lst\n",
    "#                 # add it to open_lst and note n as it's par\n",
    "#                 if m not in open_lst and m not in closed_lst:\n",
    "#                     open_lst.add(m)\n",
    "#                     par[m] = n\n",
    "#                     poo[m] = poo[n] + weight\n",
    " \n",
    "#                 # otherwise, check if it's quicker to first visit n, then m\n",
    "#                 # and if it is, update par data and poo data\n",
    "#                 # and if the node was in the closed_lst, move it to open_lst\n",
    "#                 else:\n",
    "#                     if poo[m] > poo[n] + weight:\n",
    "#                         poo[m] = poo[n] + weight\n",
    "#                         par[m] = n\n",
    " \n",
    "#                         if m in closed_lst:\n",
    "#                             closed_lst.remove(m)\n",
    "#                             open_lst.add(m)\n",
    " \n",
    "#             # remove n from the open_lst, and add it to closed_lst\n",
    "#             # because all of his neighbors were inspected\n",
    "#             open_lst.remove(n)\n",
    "#             closed_lst.add(n)\n",
    " \n",
    "#         print('Path does not exist!')\n",
    "#         return None"
   ]
  },
  {
   "cell_type": "code",
   "execution_count": null,
   "id": "410a26bd",
   "metadata": {},
   "outputs": [],
   "source": [
    "# adjac_lis = {\n",
    "#     'A': [('B', 1), ('C', 3), ('D', 7)],\n",
    "#     'B': [('D', 5)],\n",
    "#     'C': [('D', 12)]\n",
    "# }\n",
    "# graph1 = Graph(adjac_lis)\n",
    "# graph1.a_star_algorithm('A', 'D')"
   ]
  },
  {
   "cell_type": "markdown",
   "id": "550a9b78",
   "metadata": {},
   "source": [
    "# Test"
   ]
  },
  {
   "cell_type": "code",
   "execution_count": 60,
   "id": "8af5a150",
   "metadata": {},
   "outputs": [],
   "source": [
    "# # np.random.rand(10,10)\n",
    "# import numpy as np\n",
    "# a = list(np.random.randint(100, size=10))\n",
    "# type(a[0])\n"
   ]
  },
  {
   "cell_type": "code",
   "execution_count": 61,
   "id": "e15f5a20",
   "metadata": {},
   "outputs": [
    {
     "data": {
      "text/plain": [
       "matrix([[77,  5, 75, 96, 91, 57,  4, 99, 78, 57],\n",
       "        [32,  4,  9,  5, 96,  7,  2, 52, 49,  5],\n",
       "        [86, 73, 78,  4, 28,  7, 99, 30, 51, 30],\n",
       "        [12, 74, 54, 17, 93, 44,  9, 48, 38, 25],\n",
       "        [34, 30, 70, 60, 54, 84, 71, 12, 66, 44],\n",
       "        [15, 57, 78, 52, 91, 57, 83, 54, 97, 83],\n",
       "        [41,  4, 95, 53, 46, 98, 54,  0, 98, 27],\n",
       "        [20, 31, 71, 39,  0, 95, 61, 29, 45, 34],\n",
       "        [62, 69, 63, 22, 85, 43,  4, 80, 42, 66],\n",
       "        [79, 10, 90,  3, 31, 80, 40,  3, 45, 37]])"
      ]
     },
     "execution_count": 61,
     "metadata": {},
     "output_type": "execute_result"
    }
   ],
   "source": [
    "import numpy as np\n",
    "n = 10\n",
    "matrix = []\n",
    "block_unblock_matrix = []\n",
    "\n",
    "np_array = np.random.randint(0, 100, n*n).reshape(n, n)\n",
    "matrix = np.asmatrix(np_array)\n",
    "\n",
    "matrix"
   ]
  },
  {
   "cell_type": "code",
   "execution_count": 62,
   "id": "136d23b6",
   "metadata": {},
   "outputs": [
    {
     "data": {
      "text/plain": [
       "matrix([[0, 0, 0, 1, 0, 0, 1, 0, 1, 0],\n",
       "        [1, 0, 0, 0, 1, 1, 0, 0, 0, 0],\n",
       "        [1, 1, 1, 0, 0, 0, 1, 1, 1, 0],\n",
       "        [1, 0, 0, 1, 0, 1, 0, 1, 1, 1],\n",
       "        [1, 1, 1, 0, 0, 1, 1, 1, 0, 0],\n",
       "        [0, 0, 1, 0, 0, 1, 1, 0, 1, 1],\n",
       "        [1, 1, 0, 0, 1, 1, 0, 1, 0, 0],\n",
       "        [0, 1, 1, 1, 0, 0, 0, 1, 0, 1],\n",
       "        [1, 1, 0, 1, 1, 1, 1, 1, 1, 1],\n",
       "        [0, 0, 1, 1, 1, 1, 0, 0, 1, 1]])"
      ]
     },
     "execution_count": 62,
     "metadata": {},
     "output_type": "execute_result"
    }
   ],
   "source": [
    "np_array = np.random.randint(0, 2, n*n).reshape(n, n)\n",
    "block_unblock_matrix = np.asmatrix(np_array)\n",
    "\n",
    "block_unblock_matrix"
   ]
  },
  {
   "cell_type": "raw",
   "id": "d5cd3fbe",
   "metadata": {},
   "source": [
    "h(n) matrix"
   ]
  },
  {
   "cell_type": "code",
   "execution_count": 63,
   "id": "6a1a5103",
   "metadata": {
    "scrolled": true
   },
   "outputs": [],
   "source": [
    "# [[1 for j in range(n)] for i in range(n)]\n",
    "\n",
    "# hofn_matrix = list(np.array(np.arange(100).reshape((10,10))))\n",
    "# # np.fliplr(hofn_matrix)\n",
    "\n",
    "def compute_hofn(n):\n",
    "    k = 0\n",
    "    hofn = []\n",
    "    one_row = []\n",
    "    for j in range(n):\n",
    "        one_row.append(k)\n",
    "        k += 1\n",
    "\n",
    "    hofn.append(one_row)\n",
    "\n",
    "    for i in range(n-1):\n",
    "        one_row = [x+1 for x in one_row]\n",
    "        hofn.append(one_row)\n",
    "\n",
    "    hofn_matrix = np.array([np.array(xi) for xi in hofn])\n",
    "    hofn_matrix = np.flip(hofn_matrix)\n",
    "    return hofn_matrix"
   ]
  },
  {
   "cell_type": "markdown",
   "id": "b6839b06",
   "metadata": {},
   "source": [
    "g(n) matrix"
   ]
  },
  {
   "cell_type": "code",
   "execution_count": 64,
   "id": "5e498d47",
   "metadata": {},
   "outputs": [],
   "source": [
    "def compute_gofn(n):\n",
    "    k = 0\n",
    "    gofn = []\n",
    "    one_row = []\n",
    "    for j in range(n):\n",
    "        one_row.append(k)\n",
    "        k += 1\n",
    "    gofn.append(one_row)\n",
    "    for i in range(n-1):\n",
    "        one_row = [x+1 for x in one_row]\n",
    "        gofn.append(one_row)\n",
    "\n",
    "    gofn_matrix = np.array([np.array(xi) for xi in gofn])\n",
    "    return gofn_matrix"
   ]
  },
  {
   "cell_type": "code",
   "execution_count": 65,
   "id": "29c4adfc",
   "metadata": {},
   "outputs": [],
   "source": [
    "def get_gofn(gofn_matrix, row, col):\n",
    "    return gofn_matrix[row][col]"
   ]
  },
  {
   "cell_type": "code",
   "execution_count": 66,
   "id": "fdd15e93",
   "metadata": {},
   "outputs": [],
   "source": [
    "def get_hofn(hofn_matrix, row, col):\n",
    "    return hofn_matrix[row][col]"
   ]
  },
  {
   "cell_type": "code",
   "execution_count": 72,
   "id": "98c80130",
   "metadata": {},
   "outputs": [],
   "source": [
    "def get_children(matrix, row, column, n):\n",
    "    children = []\n",
    "    if row == 0 and column == 0:\n",
    "        children.append((row+1,column))\n",
    "        children.append((row, column+1))\n",
    "    elif row == n-1 and column == n-1:\n",
    "        print(\"goal node doesn't have children\")\n",
    "    elif row == n-1:\n",
    "        children.append((row, column+1))\n",
    "    elif column == n-1:\n",
    "        children.append((row+1, column))\n",
    "    else:\n",
    "        print(\"Invalid node\")\n",
    "    return children "
   ]
  },
  {
   "cell_type": "code",
   "execution_count": 73,
   "id": "d24acc07",
   "metadata": {},
   "outputs": [],
   "source": [
    "def sort(open_list, gofn_matrix, hofn_matrix):\n",
    "    sort_dict = {}\n",
    "    for node in open_list:\n",
    "        row = node[0]\n",
    "        col = node[1]\n",
    "        gofn = gofn_matrix.item(start)\n",
    "        hofn = hofn_matrix[row][col]\n",
    "        fofn = gofn + hofn\n",
    "        sort_dict[fofn] = node\n",
    "    sort_dict = dict(sorted(sort_dict.items(), key=lambda item: item[1]))\n",
    "    return sort_dict"
   ]
  },
  {
   "cell_type": "code",
   "execution_count": 76,
   "id": "3221a2ed",
   "metadata": {},
   "outputs": [
    {
     "name": "stdout",
     "output_type": "stream",
     "text": [
      "[(0, 0)]\n",
      "children [(1, 0), (0, 1)]\n",
      "open_list [(1, 0), (0, 1)]\n",
      "\n",
      " {17: (0, 1)}\n",
      "Invalid node\n",
      "children []\n",
      "open_list [(1, 0)]\n",
      "\n",
      " {17: (1, 0)}\n"
     ]
    }
   ],
   "source": [
    "visited_list = []\n",
    "open_list = []\n",
    "\n",
    "start = (0,0)\n",
    "goal = (n-1, n-1)\n",
    "\n",
    "open_list.append(start)\n",
    "print(open_list)\n",
    "gofn_matrix = compute_gofn(n)\n",
    "hofn_matrix = compute_hofn(n)\n",
    "while open_list:\n",
    "    current_node = open_list.pop()\n",
    "    if block_unblock_matrix.item(current_node) == 0:\n",
    "        visited_list.append(current_node)\n",
    "        children = get_children(block_unblock_matrix, current_node[0], current_node[1], n)\n",
    "        print(\"children\", children)\n",
    "        open_list.extend(children)\n",
    "        sort_dict = sort(open_list, gofn_matrix, hofn_matrix)\n",
    "        print(\"open_list\", open_list)\n",
    "        print(\"\\n\", sort_dict)\n",
    "#         break"
   ]
  },
  {
   "cell_type": "code",
   "execution_count": null,
   "id": "9eea3375",
   "metadata": {},
   "outputs": [],
   "source": []
  }
 ],
 "metadata": {
  "kernelspec": {
   "display_name": "Python 3",
   "language": "python",
   "name": "python3"
  },
  "language_info": {
   "codemirror_mode": {
    "name": "ipython",
    "version": 3
   },
   "file_extension": ".py",
   "mimetype": "text/x-python",
   "name": "python",
   "nbconvert_exporter": "python",
   "pygments_lexer": "ipython3",
   "version": "3.8.8"
  }
 },
 "nbformat": 4,
 "nbformat_minor": 5
}
