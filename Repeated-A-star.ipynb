{
 "cells": [
  {
   "cell_type": "markdown",
   "id": "b19ad0de",
   "metadata": {},
   "source": [
    "# A* Algo"
   ]
  },
  {
   "cell_type": "code",
   "execution_count": 1,
   "id": "c93ea6cb",
   "metadata": {},
   "outputs": [],
   "source": [
    "import numpy as np\n",
    "import matplotlib.pyplot as plt\n",
    "from matplotlib import colors\n",
    "import math\n",
    "\n",
    "n = 5\n",
    "matrix = []\n",
    "block_unblock_matrix = []\n"
   ]
  },
  {
   "cell_type": "code",
   "execution_count": 2,
   "id": "548007cd",
   "metadata": {},
   "outputs": [],
   "source": [
    "def euclidean_distance_calc(i, j, n):\n",
    "    return math.sqrt(((n - i)**2 + (n - j)**2))\n",
    "\n",
    "def chebyshev_distance_calc(i, j, n):\n",
    "    return max((n - i), (n - j))\n",
    "\n",
    "\n",
    "def manhattan_distance_calc(i, j, n):\n",
    "    return abs(n - i) + abs(n - j)\n",
    "\n",
    "def compute_hofn(n, heuristic):\n",
    "    \n",
    "    hofn_matrix = []\n",
    "    for i in range(n):\n",
    "        hofn_row = []\n",
    "        for j in range(n):\n",
    "            if heuristic == \"euclidean\":\n",
    "                dist = euclidean_distance_calc(i, j, n -1)\n",
    "            elif heuristic == \"chebyshev\":\n",
    "                dist = chebyshev_distance_calc(i, j, n -1)\n",
    "            elif heuristic == \"manhattan\":\n",
    "                dist = manhattan_distance_calc(i, j, n -1)\n",
    "            hofn_row.append(dist)\n",
    "        hofn_matrix.append(hofn_row)\n",
    "    return np.array(hofn_matrix)"
   ]
  },
  {
   "cell_type": "code",
   "execution_count": 3,
   "id": "5f5f27b3",
   "metadata": {},
   "outputs": [
    {
     "data": {
      "text/plain": [
       "<matplotlib.image.AxesImage at 0x22c1d9a5e20>"
      ]
     },
     "execution_count": 3,
     "metadata": {},
     "output_type": "execute_result"
    },
    {
     "data": {
      "image/png": "[encoded data removed]",
      "text/plain": [
       "<Figure size 432x288 with 1 Axes>"
      ]
     },
     "metadata": {
      "needs_background": "light"
     },
     "output_type": "display_data"
    }
   ],
   "source": [
    "def populateMatrix(n,p):\n",
    "    np_array = np.random.rand(n*n)\n",
    "    block = lambda x: 0 if x>=p else 1\n",
    "    vectorized_block = np.vectorize(block)\n",
    "    np_array = vectorized_block(np_array).reshape(n,n)\n",
    "    np_array[0,0]=0\n",
    "    np_array[n-1,n-1] =0\n",
    "    return np_array\n",
    "\n",
    "np_array = populateMatrix(n,0.5)\n",
    "block_unblock_matrix = np.asmatrix(np_array)\n",
    "\n",
    "block_unblock_matrix = [[0, 1, 0, 1, 1],\n",
    "        [0, 0, 0, 1, 1],\n",
    "        [1, 1, 0, 1, 0],\n",
    "        [1, 0, 0, 0, 0],\n",
    "        [0, 1, 0, 1, 0]]\n",
    "block_unblock_matrix = np.matrix(block_unblock_matrix)\n",
    "plt.spy(block_unblock_matrix)\n"
   ]
  },
  {
   "cell_type": "code",
   "execution_count": null,
   "id": "100267df",
   "metadata": {},
   "outputs": [],
   "source": [
    "# add all children for each node where agent's grid shows the cells are unblocked. If it is noticed from previous iterations that \n",
    "#      that a cell is blocked, ignore\n",
    "#     pop(lowest cost)\n",
    "# once a block is identified, mark blocked and return to previous unblocked position\n",
    "# and start a* again\n",
    "# Note: for every change in cell position add 1 to trajectory_path\n",
    "\n",
    "# later\n",
    "# change dict to priority queue\n",
    "# make a note of number of operations"
   ]
  },
  {
   "cell_type": "code",
   "execution_count": 4,
   "id": "6e254ed0",
   "metadata": {},
   "outputs": [
    {
     "data": {
      "text/plain": [
       "matrix([[0, 1, 0, 1, 1],\n",
       "        [0, 0, 0, 1, 1],\n",
       "        [1, 1, 0, 1, 0],\n",
       "        [1, 0, 0, 0, 0],\n",
       "        [0, 1, 0, 1, 0]])"
      ]
     },
     "execution_count": 4,
     "metadata": {},
     "output_type": "execute_result"
    }
   ],
   "source": [
    "block_unblock_matrix"
   ]
  },
  {
   "cell_type": "raw",
   "id": "0d5c63ca",
   "metadata": {},
   "source": [
    "h(n) matrix"
   ]
  },
  {
   "cell_type": "markdown",
   "id": "c61309f6",
   "metadata": {},
   "source": [
    "g(n) matrix"
   ]
  },
  {
   "cell_type": "code",
   "execution_count": 5,
   "id": "b0e2eb92",
   "metadata": {},
   "outputs": [],
   "source": [
    "def compute_gofn(n):\n",
    "    k = 0\n",
    "    gofn = []\n",
    "    one_row = []\n",
    "    for j in range(n):\n",
    "        one_row.append(k)\n",
    "        k += 1\n",
    "    gofn.append(one_row)\n",
    "    for i in range(n-1):\n",
    "        one_row = [x+1 for x in one_row]\n",
    "        gofn.append(one_row)\n",
    "\n",
    "    gofn_matrix = np.array([np.array(xi) for xi in gofn])\n",
    "    return gofn_matrix"
   ]
  },
  {
   "cell_type": "code",
   "execution_count": 6,
   "id": "148bff9c",
   "metadata": {},
   "outputs": [],
   "source": [
    "def get_gofn(gofn_matrix, row, col):\n",
    "    return gofn_matrix[row][col]"
   ]
  },
  {
   "cell_type": "code",
   "execution_count": 7,
   "id": "fee74c1d",
   "metadata": {},
   "outputs": [],
   "source": [
    "def get_hofn(hofn_matrix, row, col):\n",
    "    return hofn_matrix[row][col]"
   ]
  },
  {
   "cell_type": "code",
   "execution_count": 8,
   "id": "65717f50",
   "metadata": {},
   "outputs": [],
   "source": [
    "def get_children(matrix, x, y, n, gofn, visited_list):\n",
    "    allChildren = [(x+1,y,gofn+1),#down\n",
    "                   (x-1,y,gofn+1),#up\n",
    "                   (x,y+1,gofn+1),#right\n",
    "                   (x,y-1,gofn+1)]#left\n",
    "    if x+1 > n-1:\n",
    "        allChildren.remove((x+1,y,gofn+1))\n",
    "    if x-1 < 0:\n",
    "        allChildren.remove((x-1,y,gofn+1))\n",
    "    if y+1 > n-1:\n",
    "        allChildren.remove((x,y+1,gofn+1))\n",
    "    if y-1 < 0:\n",
    "        allChildren.remove((x,y-1,gofn+1))\n",
    "    print(\"allChildren\", allChildren)\n",
    "    for node in allChildren:\n",
    "        if node[:2] in visited_list:\n",
    "            allChildren.remove(node)\n",
    "            print(\"removed: \", node, \"from children\")\n",
    "\n",
    "    \n",
    "    return allChildren"
   ]
  },
  {
   "cell_type": "code",
   "execution_count": 9,
   "id": "946ffd37",
   "metadata": {},
   "outputs": [],
   "source": [
    "def sort(open_list, gofn_matrix, hofn_matrix):\n",
    "    sort_dict = {}\n",
    "    for node in open_list:\n",
    "        row = node[0]\n",
    "        col = node[1]\n",
    "        gofn = gofn_matrix.item(row,col)\n",
    "        hofn = hofn_matrix.item(row,col)\n",
    "        print(\"node\", node, \" - gofn: \", gofn,  \" - hofn: \", hofn)\n",
    "        sort_dict[node] = hofn\n",
    "        \n",
    "        sort_dict = dict(sorted(sort_dict.items(), key=lambda item: item[1]))\n",
    "    return sort_dict"
   ]
  },
  {
   "cell_type": "code",
   "execution_count": 10,
   "id": "379670bc",
   "metadata": {},
   "outputs": [],
   "source": [
    "def display(trajectory_path):\n",
    "    np_array = populateMatrix(n,0)\n",
    "    final_display_matrix = np.asmatrix(np_array)\n",
    "    for path in trajectory_path:\n",
    "        final_display_matrix[path[:2]] = 1\n",
    "    colormap = colors.ListedColormap([\"white\",\"green\"])\n",
    "    plt.imshow(final_display_matrix, cmap=colormap)\n",
    "    plt.show()"
   ]
  },
  {
   "cell_type": "code",
   "execution_count": 11,
   "id": "ac8b6308",
   "metadata": {},
   "outputs": [],
   "source": [
    "def node_block_check(children_dict, block_unblock_matrix, current_node):\n",
    "    node_blocked = 0\n",
    "    node_removal_list = []\n",
    "    print(\"children_dict\", children_dict)\n",
    "#     for node in children_dict:\n",
    "    children_node_list = children_dict[current_node]\n",
    "    print(\"children_node_list\", children_node_list)\n",
    "    for i in range(len(children_node_list)):\n",
    "        #checking if all children are blocked\n",
    "        if block_unblock_matrix.item(children_node_list[i]) == 1:\n",
    "            node_blocked += 1\n",
    "        if node_blocked == len(children_node_list):\n",
    "            node_removal_list.append(current_node)\n",
    "    return node_removal_list"
   ]
  },
  {
   "cell_type": "code",
   "execution_count": 12,
   "id": "2e1d64b6",
   "metadata": {
    "scrolled": false
   },
   "outputs": [],
   "source": [
    "def astar(block_unblock_matrix):\n",
    "    print(\"block_unblock_matrix\", block_unblock_matrix)\n",
    "    visited_list = []\n",
    "    open_list = []\n",
    "    trajectory_path = []\n",
    "    path_block = 0\n",
    "    children_dict = {}\n",
    "    i = 0\n",
    "    start = (0, 0, 0)\n",
    "    goal = (n-1, n-1)\n",
    "\n",
    "    open_list.append(start)\n",
    "    gofn_matrix = compute_gofn(n)\n",
    "    hofn_matrix = compute_hofn(n, \"manhattan\")\n",
    "    print(\"visited_list in astar\", visited_list)\n",
    "    while open_list:\n",
    "        child_list = []\n",
    "        current_node = open_list.pop(0)\n",
    "        if current_node[:2] not in visited_list:\n",
    "            visited_list.append(current_node[:2])\n",
    "            if current_node[:2] not in trajectory_path: \n",
    "                trajectory_path.append(current_node[:2])\n",
    "            print(\"current_node:\", current_node)\n",
    "            print(\"hello\")\n",
    "            if block_unblock_matrix.item(current_node[0], current_node[1]) == 0:\n",
    "                print(\"hello 2\")\n",
    "                if current_node[0] == n-1 and current_node[1] == n-1:\n",
    "                    print(\"Reached Goal!!!!!!!!!!!!!!!!!!!!!!!\")\n",
    "                    trajectory_path.append(current_node[:2])\n",
    "                    display(trajectory_path)\n",
    "                    break\n",
    "                print(\"visited_list\", visited_list)\n",
    "\n",
    "                children = get_children(block_unblock_matrix, current_node[0], current_node[1], n, current_node[2], visited_list)\n",
    "                print(\"children\", children)\n",
    "\n",
    "                for x in children:\n",
    "                    child_list.append(x[:2])\n",
    "                children_dict[current_node[:2]] = child_list\n",
    "\n",
    "                print(\"child_list\", child_list)\n",
    "\n",
    "                for node in children:\n",
    "                    if node not in open_list:\n",
    "                        open_list.append(node)\n",
    "                sort_dict = sort(open_list, gofn_matrix, hofn_matrix)\n",
    "\n",
    "                print(\"sort_dict\", sort_dict)\n",
    "                open_list = list(sort_dict.keys())\n",
    "                print(\"updated open list: \", open_list)\n",
    "                print(\"trajectory_path: \", trajectory_path)\n",
    "                print(\"---------------------\\n\")\n",
    "                display(trajectory_path)\n",
    "                node_removal_list = node_block_check(children_dict, block_unblock_matrix, current_node[:2])\n",
    "                for node in node_removal_list:\n",
    "                    if node in trajectory_path:\n",
    "                        trajectory_path.remove(node)\n",
    "                print(\"node_removal_list\", node_removal_list)\n",
    "            else:\n",
    "                if open_list == []:\n",
    "                    print(\"There is no path available to goal Node.\")\n",
    "                    break\n",
    "                else:\n",
    "                    print(\"path blocked from\", current_node, \"backtracking and attempting to Traversing from a different node\")\n",
    "                    if current_node[:2] in trajectory_path:\n",
    "                        trajectory_path.remove(current_node[:2])\n",
    "        else:\n",
    "            print(current_node[:2], \"node already visited\")\n",
    "            if open_list == []:\n",
    "                    print(\"There is no path available to goal Node\")\n",
    "                    break"
   ]
  },
  {
   "cell_type": "raw",
   "id": "fad5c66c",
   "metadata": {},
   "source": [
    "children in all 4 directions (not to consider blocked children)\n",
    "consider visited children if fofn < previous\n",
    "trajectory path correction\n",
    "question 6 field of view -  can be done later\n",
    "\n",
    "improvise to repeated a*"
   ]
  },
  {
   "cell_type": "code",
   "execution_count": 13,
   "id": "fd96f60a",
   "metadata": {
    "scrolled": true
   },
   "outputs": [
    {
     "name": "stdout",
     "output_type": "stream",
     "text": [
      "block_unblock_matrix [[0 1 0 1 1]\n",
      " [0 0 0 1 1]\n",
      " [1 1 0 1 0]\n",
      " [1 0 0 0 0]\n",
      " [0 1 0 1 0]]\n",
      "visited_list in astar []\n",
      "current_node: (0, 0, 0)\n",
      "hello\n",
      "hello 2\n",
      "visited_list [(0, 0)]\n",
      "allChildren [(1, 0, 1), (0, 1, 1)]\n",
      "children [(1, 0, 1), (0, 1, 1)]\n",
      "child_list [(1, 0), (0, 1)]\n",
      "node (1, 0, 1)  - gofn:  1  - hofn:  7\n",
      "node (0, 1, 1)  - gofn:  1  - hofn:  7\n",
      "sort_dict {(1, 0, 1): 7, (0, 1, 1): 7}\n",
      "updated open list:  [(1, 0, 1), (0, 1, 1)]\n",
      "trajectory_path:  [(0, 0)]\n",
      "---------------------\n",
      "\n"
     ]
    },
    {
     "data": {
      "image/png": "[encoded data removed]",
      "text/plain": [
       "<Figure size 432x288 with 1 Axes>"
      ]
     },
     "metadata": {
      "needs_background": "light"
     },
     "output_type": "display_data"
    },
    {
     "name": "stdout",
     "output_type": "stream",
     "text": [
      "children_dict {(0, 0): [(1, 0), (0, 1)]}\n",
      "children_node_list [(1, 0), (0, 1)]\n",
      "node_removal_list []\n",
      "current_node: (1, 0, 1)\n",
      "hello\n",
      "hello 2\n",
      "visited_list [(0, 0), (1, 0)]\n",
      "allChildren [(2, 0, 2), (0, 0, 2), (1, 1, 2)]\n",
      "removed:  (0, 0, 2) from children\n",
      "children [(2, 0, 2), (1, 1, 2)]\n",
      "child_list [(2, 0), (1, 1)]\n",
      "node (0, 1, 1)  - gofn:  1  - hofn:  7\n",
      "node (2, 0, 2)  - gofn:  2  - hofn:  6\n",
      "node (1, 1, 2)  - gofn:  2  - hofn:  6\n",
      "sort_dict {(2, 0, 2): 6, (1, 1, 2): 6, (0, 1, 1): 7}\n",
      "updated open list:  [(2, 0, 2), (1, 1, 2), (0, 1, 1)]\n",
      "trajectory_path:  [(0, 0), (1, 0)]\n",
      "---------------------\n",
      "\n"
     ]
    },
    {
     "data": {
      "image/png": "[encoded data removed]",
      "text/plain": [
       "<Figure size 432x288 with 1 Axes>"
      ]
     },
     "metadata": {
      "needs_background": "light"
     },
     "output_type": "display_data"
    },
    {
     "name": "stdout",
     "output_type": "stream",
     "text": [
      "children_dict {(0, 0): [(1, 0), (0, 1)], (1, 0): [(2, 0), (1, 1)]}\n",
      "children_node_list [(2, 0), (1, 1)]\n",
      "node_removal_list []\n",
      "current_node: (2, 0, 2)\n",
      "hello\n",
      "path blocked from (2, 0, 2) backtracking and attempting to Traversing from a different node\n",
      "current_node: (1, 1, 2)\n",
      "hello\n",
      "hello 2\n",
      "visited_list [(0, 0), (1, 0), (2, 0), (1, 1)]\n",
      "allChildren [(2, 1, 3), (0, 1, 3), (1, 2, 3), (1, 0, 3)]\n",
      "removed:  (1, 0, 3) from children\n",
      "children [(2, 1, 3), (0, 1, 3), (1, 2, 3)]\n",
      "child_list [(2, 1), (0, 1), (1, 2)]\n",
      "node (0, 1, 1)  - gofn:  1  - hofn:  7\n",
      "node (2, 1, 3)  - gofn:  3  - hofn:  5\n",
      "node (0, 1, 3)  - gofn:  1  - hofn:  7\n",
      "node (1, 2, 3)  - gofn:  3  - hofn:  5\n",
      "sort_dict {(2, 1, 3): 5, (1, 2, 3): 5, (0, 1, 1): 7, (0, 1, 3): 7}\n",
      "updated open list:  [(2, 1, 3), (1, 2, 3), (0, 1, 1), (0, 1, 3)]\n",
      "trajectory_path:  [(0, 0), (1, 0), (1, 1)]\n",
      "---------------------\n",
      "\n"
     ]
    },
    {
     "data": {
      "image/png": "[encoded data removed]",
      "text/plain": [
       "<Figure size 432x288 with 1 Axes>"
      ]
     },
     "metadata": {
      "needs_background": "light"
     },
     "output_type": "display_data"
    },
    {
     "name": "stdout",
     "output_type": "stream",
     "text": [
      "children_dict {(0, 0): [(1, 0), (0, 1)], (1, 0): [(2, 0), (1, 1)], (1, 1): [(2, 1), (0, 1), (1, 2)]}\n",
      "children_node_list [(2, 1), (0, 1), (1, 2)]\n",
      "node_removal_list []\n",
      "current_node: (2, 1, 3)\n",
      "hello\n",
      "path blocked from (2, 1, 3) backtracking and attempting to Traversing from a different node\n",
      "current_node: (1, 2, 3)\n",
      "hello\n",
      "hello 2\n",
      "visited_list [(0, 0), (1, 0), (2, 0), (1, 1), (2, 1), (1, 2)]\n",
      "allChildren [(2, 2, 4), (0, 2, 4), (1, 3, 4), (1, 1, 4)]\n",
      "removed:  (1, 1, 4) from children\n",
      "children [(2, 2, 4), (0, 2, 4), (1, 3, 4)]\n",
      "child_list [(2, 2), (0, 2), (1, 3)]\n",
      "node (0, 1, 1)  - gofn:  1  - hofn:  7\n",
      "node (0, 1, 3)  - gofn:  1  - hofn:  7\n",
      "node (2, 2, 4)  - gofn:  4  - hofn:  4\n",
      "node (0, 2, 4)  - gofn:  2  - hofn:  6\n",
      "node (1, 3, 4)  - gofn:  4  - hofn:  4\n",
      "sort_dict {(2, 2, 4): 4, (1, 3, 4): 4, (0, 2, 4): 6, (0, 1, 1): 7, (0, 1, 3): 7}\n",
      "updated open list:  [(2, 2, 4), (1, 3, 4), (0, 2, 4), (0, 1, 1), (0, 1, 3)]\n",
      "trajectory_path:  [(0, 0), (1, 0), (1, 1), (1, 2)]\n",
      "---------------------\n",
      "\n"
     ]
    },
    {
     "data": {
      "image/png": "[encoded data removed]",
      "text/plain": [
       "<Figure size 432x288 with 1 Axes>"
      ]
     },
     "metadata": {
      "needs_background": "light"
     },
     "output_type": "display_data"
    },
    {
     "name": "stdout",
     "output_type": "stream",
     "text": [
      "children_dict {(0, 0): [(1, 0), (0, 1)], (1, 0): [(2, 0), (1, 1)], (1, 1): [(2, 1), (0, 1), (1, 2)], (1, 2): [(2, 2), (0, 2), (1, 3)]}\n",
      "children_node_list [(2, 2), (0, 2), (1, 3)]\n",
      "node_removal_list []\n",
      "current_node: (2, 2, 4)\n",
      "hello\n",
      "hello 2\n",
      "visited_list [(0, 0), (1, 0), (2, 0), (1, 1), (2, 1), (1, 2), (2, 2)]\n",
      "allChildren [(3, 2, 5), (1, 2, 5), (2, 3, 5), (2, 1, 5)]\n",
      "removed:  (1, 2, 5) from children\n",
      "removed:  (2, 1, 5) from children\n",
      "children [(3, 2, 5), (2, 3, 5)]\n",
      "child_list [(3, 2), (2, 3)]\n",
      "node (1, 3, 4)  - gofn:  4  - hofn:  4\n",
      "node (0, 2, 4)  - gofn:  2  - hofn:  6\n",
      "node (0, 1, 1)  - gofn:  1  - hofn:  7\n",
      "node (0, 1, 3)  - gofn:  1  - hofn:  7\n",
      "node (3, 2, 5)  - gofn:  5  - hofn:  3\n",
      "node (2, 3, 5)  - gofn:  5  - hofn:  3\n",
      "sort_dict {(3, 2, 5): 3, (2, 3, 5): 3, (1, 3, 4): 4, (0, 2, 4): 6, (0, 1, 1): 7, (0, 1, 3): 7}\n",
      "updated open list:  [(3, 2, 5), (2, 3, 5), (1, 3, 4), (0, 2, 4), (0, 1, 1), (0, 1, 3)]\n",
      "trajectory_path:  [(0, 0), (1, 0), (1, 1), (1, 2), (2, 2)]\n",
      "---------------------\n",
      "\n"
     ]
    },
    {
     "data": {
      "image/png": "[encoded data removed]",
      "text/plain": [
       "<Figure size 432x288 with 1 Axes>"
      ]
     },
     "metadata": {
      "needs_background": "light"
     },
     "output_type": "display_data"
    },
    {
     "name": "stdout",
     "output_type": "stream",
     "text": [
      "children_dict {(0, 0): [(1, 0), (0, 1)], (1, 0): [(2, 0), (1, 1)], (1, 1): [(2, 1), (0, 1), (1, 2)], (1, 2): [(2, 2), (0, 2), (1, 3)], (2, 2): [(3, 2), (2, 3)]}\n",
      "children_node_list [(3, 2), (2, 3)]\n",
      "node_removal_list []\n",
      "current_node: (3, 2, 5)\n",
      "hello\n",
      "hello 2\n",
      "visited_list [(0, 0), (1, 0), (2, 0), (1, 1), (2, 1), (1, 2), (2, 2), (3, 2)]\n",
      "allChildren [(4, 2, 6), (2, 2, 6), (3, 3, 6), (3, 1, 6)]\n",
      "removed:  (2, 2, 6) from children\n",
      "children [(4, 2, 6), (3, 3, 6), (3, 1, 6)]\n",
      "child_list [(4, 2), (3, 3), (3, 1)]\n",
      "node (2, 3, 5)  - gofn:  5  - hofn:  3\n",
      "node (1, 3, 4)  - gofn:  4  - hofn:  4\n",
      "node (0, 2, 4)  - gofn:  2  - hofn:  6\n",
      "node (0, 1, 1)  - gofn:  1  - hofn:  7\n",
      "node (0, 1, 3)  - gofn:  1  - hofn:  7\n",
      "node (4, 2, 6)  - gofn:  6  - hofn:  2\n",
      "node (3, 3, 6)  - gofn:  6  - hofn:  2\n",
      "node (3, 1, 6)  - gofn:  4  - hofn:  4\n",
      "sort_dict {(4, 2, 6): 2, (3, 3, 6): 2, (2, 3, 5): 3, (1, 3, 4): 4, (3, 1, 6): 4, (0, 2, 4): 6, (0, 1, 1): 7, (0, 1, 3): 7}\n",
      "updated open list:  [(4, 2, 6), (3, 3, 6), (2, 3, 5), (1, 3, 4), (3, 1, 6), (0, 2, 4), (0, 1, 1), (0, 1, 3)]\n",
      "trajectory_path:  [(0, 0), (1, 0), (1, 1), (1, 2), (2, 2), (3, 2)]\n",
      "---------------------\n",
      "\n"
     ]
    },
    {
     "data": {
      "image/png": "[encoded data removed]",
      "text/plain": [
       "<Figure size 432x288 with 1 Axes>"
      ]
     },
     "metadata": {
      "needs_background": "light"
     },
     "output_type": "display_data"
    },
    {
     "name": "stdout",
     "output_type": "stream",
     "text": [
      "children_dict {(0, 0): [(1, 0), (0, 1)], (1, 0): [(2, 0), (1, 1)], (1, 1): [(2, 1), (0, 1), (1, 2)], (1, 2): [(2, 2), (0, 2), (1, 3)], (2, 2): [(3, 2), (2, 3)], (3, 2): [(4, 2), (3, 3), (3, 1)]}\n",
      "children_node_list [(4, 2), (3, 3), (3, 1)]\n",
      "node_removal_list []\n",
      "current_node: (4, 2, 6)\n",
      "hello\n",
      "hello 2\n",
      "visited_list [(0, 0), (1, 0), (2, 0), (1, 1), (2, 1), (1, 2), (2, 2), (3, 2), (4, 2)]\n",
      "allChildren [(3, 2, 7), (4, 3, 7), (4, 1, 7)]\n",
      "removed:  (3, 2, 7) from children\n",
      "children [(4, 3, 7), (4, 1, 7)]\n",
      "child_list [(4, 3), (4, 1)]\n",
      "node (3, 3, 6)  - gofn:  6  - hofn:  2\n",
      "node (2, 3, 5)  - gofn:  5  - hofn:  3\n",
      "node (1, 3, 4)  - gofn:  4  - hofn:  4\n",
      "node (3, 1, 6)  - gofn:  4  - hofn:  4\n",
      "node (0, 2, 4)  - gofn:  2  - hofn:  6\n",
      "node (0, 1, 1)  - gofn:  1  - hofn:  7\n",
      "node (0, 1, 3)  - gofn:  1  - hofn:  7\n",
      "node (4, 3, 7)  - gofn:  7  - hofn:  1\n",
      "node (4, 1, 7)  - gofn:  5  - hofn:  3\n",
      "sort_dict {(4, 3, 7): 1, (3, 3, 6): 2, (2, 3, 5): 3, (4, 1, 7): 3, (1, 3, 4): 4, (3, 1, 6): 4, (0, 2, 4): 6, (0, 1, 1): 7, (0, 1, 3): 7}\n",
      "updated open list:  [(4, 3, 7), (3, 3, 6), (2, 3, 5), (4, 1, 7), (1, 3, 4), (3, 1, 6), (0, 2, 4), (0, 1, 1), (0, 1, 3)]\n",
      "trajectory_path:  [(0, 0), (1, 0), (1, 1), (1, 2), (2, 2), (3, 2), (4, 2)]\n",
      "---------------------\n",
      "\n"
     ]
    },
    {
     "data": {
      "image/png": "[encoded data removed]",
      "text/plain": [
       "<Figure size 432x288 with 1 Axes>"
      ]
     },
     "metadata": {
      "needs_background": "light"
     },
     "output_type": "display_data"
    },
    {
     "name": "stdout",
     "output_type": "stream",
     "text": [
      "children_dict {(0, 0): [(1, 0), (0, 1)], (1, 0): [(2, 0), (1, 1)], (1, 1): [(2, 1), (0, 1), (1, 2)], (1, 2): [(2, 2), (0, 2), (1, 3)], (2, 2): [(3, 2), (2, 3)], (3, 2): [(4, 2), (3, 3), (3, 1)], (4, 2): [(4, 3), (4, 1)]}\n",
      "children_node_list [(4, 3), (4, 1)]\n",
      "node_removal_list [(4, 2)]\n",
      "current_node: (4, 3, 7)\n",
      "hello\n",
      "path blocked from (4, 3, 7) backtracking and attempting to Traversing from a different node\n",
      "current_node: (3, 3, 6)\n",
      "hello\n",
      "hello 2\n",
      "visited_list [(0, 0), (1, 0), (2, 0), (1, 1), (2, 1), (1, 2), (2, 2), (3, 2), (4, 2), (4, 3), (3, 3)]\n",
      "allChildren [(4, 3, 7), (2, 3, 7), (3, 4, 7), (3, 2, 7)]\n",
      "removed:  (4, 3, 7) from children\n",
      "removed:  (3, 2, 7) from children\n",
      "children [(2, 3, 7), (3, 4, 7)]\n",
      "child_list [(2, 3), (3, 4)]\n",
      "node (2, 3, 5)  - gofn:  5  - hofn:  3\n",
      "node (4, 1, 7)  - gofn:  5  - hofn:  3\n",
      "node (1, 3, 4)  - gofn:  4  - hofn:  4\n",
      "node (3, 1, 6)  - gofn:  4  - hofn:  4\n",
      "node (0, 2, 4)  - gofn:  2  - hofn:  6\n",
      "node (0, 1, 1)  - gofn:  1  - hofn:  7\n",
      "node (0, 1, 3)  - gofn:  1  - hofn:  7\n",
      "node (2, 3, 7)  - gofn:  5  - hofn:  3\n",
      "node (3, 4, 7)  - gofn:  7  - hofn:  1\n",
      "sort_dict {(3, 4, 7): 1, (2, 3, 5): 3, (4, 1, 7): 3, (2, 3, 7): 3, (1, 3, 4): 4, (3, 1, 6): 4, (0, 2, 4): 6, (0, 1, 1): 7, (0, 1, 3): 7}\n",
      "updated open list:  [(3, 4, 7), (2, 3, 5), (4, 1, 7), (2, 3, 7), (1, 3, 4), (3, 1, 6), (0, 2, 4), (0, 1, 1), (0, 1, 3)]\n",
      "trajectory_path:  [(0, 0), (1, 0), (1, 1), (1, 2), (2, 2), (3, 2), (3, 3)]\n",
      "---------------------\n",
      "\n"
     ]
    },
    {
     "data": {
      "image/png": "[encoded data removed]",
      "text/plain": [
       "<Figure size 432x288 with 1 Axes>"
      ]
     },
     "metadata": {
      "needs_background": "light"
     },
     "output_type": "display_data"
    },
    {
     "name": "stdout",
     "output_type": "stream",
     "text": [
      "children_dict {(0, 0): [(1, 0), (0, 1)], (1, 0): [(2, 0), (1, 1)], (1, 1): [(2, 1), (0, 1), (1, 2)], (1, 2): [(2, 2), (0, 2), (1, 3)], (2, 2): [(3, 2), (2, 3)], (3, 2): [(4, 2), (3, 3), (3, 1)], (4, 2): [(4, 3), (4, 1)], (3, 3): [(2, 3), (3, 4)]}\n",
      "children_node_list [(2, 3), (3, 4)]\n",
      "node_removal_list []\n",
      "current_node: (3, 4, 7)\n",
      "hello\n",
      "hello 2\n",
      "visited_list [(0, 0), (1, 0), (2, 0), (1, 1), (2, 1), (1, 2), (2, 2), (3, 2), (4, 2), (4, 3), (3, 3), (3, 4)]\n",
      "allChildren [(4, 4, 8), (2, 4, 8), (3, 3, 8)]\n",
      "removed:  (3, 3, 8) from children\n",
      "children [(4, 4, 8), (2, 4, 8)]\n",
      "child_list [(4, 4), (2, 4)]\n",
      "node (2, 3, 5)  - gofn:  5  - hofn:  3\n",
      "node (4, 1, 7)  - gofn:  5  - hofn:  3\n",
      "node (2, 3, 7)  - gofn:  5  - hofn:  3\n",
      "node (1, 3, 4)  - gofn:  4  - hofn:  4\n",
      "node (3, 1, 6)  - gofn:  4  - hofn:  4\n",
      "node (0, 2, 4)  - gofn:  2  - hofn:  6\n",
      "node (0, 1, 1)  - gofn:  1  - hofn:  7\n",
      "node (0, 1, 3)  - gofn:  1  - hofn:  7\n",
      "node (4, 4, 8)  - gofn:  8  - hofn:  0\n",
      "node (2, 4, 8)  - gofn:  6  - hofn:  2\n",
      "sort_dict {(4, 4, 8): 0, (2, 4, 8): 2, (2, 3, 5): 3, (4, 1, 7): 3, (2, 3, 7): 3, (1, 3, 4): 4, (3, 1, 6): 4, (0, 2, 4): 6, (0, 1, 1): 7, (0, 1, 3): 7}\n",
      "updated open list:  [(4, 4, 8), (2, 4, 8), (2, 3, 5), (4, 1, 7), (2, 3, 7), (1, 3, 4), (3, 1, 6), (0, 2, 4), (0, 1, 1), (0, 1, 3)]\n",
      "trajectory_path:  [(0, 0), (1, 0), (1, 1), (1, 2), (2, 2), (3, 2), (3, 3), (3, 4)]\n",
      "---------------------\n",
      "\n"
     ]
    },
    {
     "data": {
      "image/png": "[encoded data removed]",
      "text/plain": [
       "<Figure size 432x288 with 1 Axes>"
      ]
     },
     "metadata": {
      "needs_background": "light"
     },
     "output_type": "display_data"
    },
    {
     "name": "stdout",
     "output_type": "stream",
     "text": [
      "children_dict {(0, 0): [(1, 0), (0, 1)], (1, 0): [(2, 0), (1, 1)], (1, 1): [(2, 1), (0, 1), (1, 2)], (1, 2): [(2, 2), (0, 2), (1, 3)], (2, 2): [(3, 2), (2, 3)], (3, 2): [(4, 2), (3, 3), (3, 1)], (4, 2): [(4, 3), (4, 1)], (3, 3): [(2, 3), (3, 4)], (3, 4): [(4, 4), (2, 4)]}\n",
      "children_node_list [(4, 4), (2, 4)]\n",
      "node_removal_list []\n",
      "current_node: (4, 4, 8)\n",
      "hello\n",
      "hello 2\n",
      "Reached Goal!!!!!!!!!!!!!!!!!!!!!!!\n"
     ]
    },
    {
     "data": {
      "image/png": "[encoded data removed]",
      "text/plain": [
       "<Figure size 432x288 with 1 Axes>"
      ]
     },
     "metadata": {
      "needs_background": "light"
     },
     "output_type": "display_data"
    }
   ],
   "source": [
    "astar(block_unblock_matrix)"
   ]
  },
  {
   "cell_type": "markdown",
   "id": "a7558d94",
   "metadata": {},
   "source": [
    "Retrying A*"
   ]
  },
  {
   "cell_type": "code",
   "execution_count": 15,
   "id": "53f006b1",
   "metadata": {},
   "outputs": [
    {
     "data": {
      "text/plain": [
       "matrix([[0, 1, 0, 1, 1],\n",
       "        [0, 0, 0, 1, 1],\n",
       "        [1, 1, 0, 1, 0],\n",
       "        [1, 0, 0, 0, 0],\n",
       "        [0, 1, 0, 1, 0]])"
      ]
     },
     "execution_count": 15,
     "metadata": {},
     "output_type": "execute_result"
    }
   ],
   "source": [
    "block_unblock_matrix"
   ]
  },
  {
   "cell_type": "code",
   "execution_count": 16,
   "id": "14c6b806",
   "metadata": {},
   "outputs": [
    {
     "name": "stdout",
     "output_type": "stream",
     "text": [
      "block_unblock_matrix [[0 1 0 1 1]\n",
      " [0 0 0 1 1]\n",
      " [1 1 0 1 0]\n",
      " [1 0 0 0 0]\n",
      " [0 1 0 1 0]]\n",
      "visited_list in astar []\n",
      "current_node: (0, 0, 0)\n",
      "hello\n",
      "hello 2\n",
      "visited_list [(0, 0)]\n",
      "allChildren [(1, 0, 1), (0, 1, 1)]\n",
      "children [(1, 0, 1), (0, 1, 1)]\n",
      "child_list [(1, 0), (0, 1)]\n",
      "node (1, 0, 1)  - gofn:  1  - hofn:  7\n",
      "node (0, 1, 1)  - gofn:  1  - hofn:  7\n",
      "sort_dict {(1, 0, 1): 7, (0, 1, 1): 7}\n",
      "updated open list:  [(1, 0, 1), (0, 1, 1)]\n",
      "trajectory_path:  [(0, 0)]\n",
      "---------------------\n",
      "\n"
     ]
    },
    {
     "data": {
      "image/png": "[encoded data removed]",
      "text/plain": [
       "<Figure size 432x288 with 1 Axes>"
      ]
     },
     "metadata": {
      "needs_background": "light"
     },
     "output_type": "display_data"
    },
    {
     "name": "stdout",
     "output_type": "stream",
     "text": [
      "children_dict {(0, 0): [(1, 0), (0, 1)]}\n",
      "children_node_list [(1, 0), (0, 1)]\n",
      "node_removal_list []\n",
      "current_node: (1, 0, 1)\n",
      "hello\n",
      "hello 2\n",
      "visited_list [(0, 0), (1, 0)]\n",
      "allChildren [(2, 0, 2), (0, 0, 2), (1, 1, 2)]\n",
      "removed:  (0, 0, 2) from children\n",
      "children [(2, 0, 2), (1, 1, 2)]\n",
      "child_list [(2, 0), (1, 1)]\n",
      "node (0, 1, 1)  - gofn:  1  - hofn:  7\n",
      "node (2, 0, 2)  - gofn:  2  - hofn:  6\n",
      "node (1, 1, 2)  - gofn:  2  - hofn:  6\n",
      "sort_dict {(2, 0, 2): 6, (1, 1, 2): 6, (0, 1, 1): 7}\n",
      "updated open list:  [(2, 0, 2), (1, 1, 2), (0, 1, 1)]\n",
      "trajectory_path:  [(0, 0), (1, 0)]\n",
      "---------------------\n",
      "\n"
     ]
    },
    {
     "data": {
      "image/png": "[encoded data removed]",
      "text/plain": [
       "<Figure size 432x288 with 1 Axes>"
      ]
     },
     "metadata": {
      "needs_background": "light"
     },
     "output_type": "display_data"
    },
    {
     "name": "stdout",
     "output_type": "stream",
     "text": [
      "children_dict {(0, 0): [(1, 0), (0, 1)], (1, 0): [(2, 0), (1, 1)]}\n",
      "children_node_list [(2, 0), (1, 1)]\n",
      "node_removal_list []\n",
      "current_node: (2, 0, 2)\n",
      "hello\n",
      "path blocked from (2, 0, 2) backtracking and attempting to Traversing from a different node\n",
      "current_node: (1, 1, 2)\n",
      "hello\n",
      "hello 2\n",
      "visited_list [(0, 0), (1, 0), (2, 0), (1, 1)]\n",
      "allChildren [(2, 1, 3), (0, 1, 3), (1, 2, 3), (1, 0, 3)]\n",
      "removed:  (1, 0, 3) from children\n",
      "children [(2, 1, 3), (0, 1, 3), (1, 2, 3)]\n",
      "child_list [(2, 1), (0, 1), (1, 2)]\n",
      "node (0, 1, 1)  - gofn:  1  - hofn:  7\n",
      "node (2, 1, 3)  - gofn:  3  - hofn:  5\n",
      "node (0, 1, 3)  - gofn:  1  - hofn:  7\n",
      "node (1, 2, 3)  - gofn:  3  - hofn:  5\n",
      "sort_dict {(2, 1, 3): 5, (1, 2, 3): 5, (0, 1, 1): 7, (0, 1, 3): 7}\n",
      "updated open list:  [(2, 1, 3), (1, 2, 3), (0, 1, 1), (0, 1, 3)]\n",
      "trajectory_path:  [(0, 0), (1, 0), (1, 1)]\n",
      "---------------------\n",
      "\n"
     ]
    },
    {
     "data": {
      "image/png": "[encoded data removed]",
      "text/plain": [
       "<Figure size 432x288 with 1 Axes>"
      ]
     },
     "metadata": {
      "needs_background": "light"
     },
     "output_type": "display_data"
    },
    {
     "name": "stdout",
     "output_type": "stream",
     "text": [
      "children_dict {(0, 0): [(1, 0), (0, 1)], (1, 0): [(2, 0), (1, 1)], (1, 1): [(2, 1), (0, 1), (1, 2)]}\n",
      "children_node_list [(2, 1), (0, 1), (1, 2)]\n",
      "node_removal_list []\n",
      "current_node: (2, 1, 3)\n",
      "hello\n",
      "path blocked from (2, 1, 3) backtracking and attempting to Traversing from a different node\n",
      "current_node: (1, 2, 3)\n",
      "hello\n",
      "hello 2\n",
      "visited_list [(0, 0), (1, 0), (2, 0), (1, 1), (2, 1), (1, 2)]\n",
      "allChildren [(2, 2, 4), (0, 2, 4), (1, 3, 4), (1, 1, 4)]\n",
      "removed:  (1, 1, 4) from children\n",
      "children [(2, 2, 4), (0, 2, 4), (1, 3, 4)]\n",
      "child_list [(2, 2), (0, 2), (1, 3)]\n",
      "node (0, 1, 1)  - gofn:  1  - hofn:  7\n",
      "node (0, 1, 3)  - gofn:  1  - hofn:  7\n",
      "node (2, 2, 4)  - gofn:  4  - hofn:  4\n",
      "node (0, 2, 4)  - gofn:  2  - hofn:  6\n",
      "node (1, 3, 4)  - gofn:  4  - hofn:  4\n",
      "sort_dict {(2, 2, 4): 4, (1, 3, 4): 4, (0, 2, 4): 6, (0, 1, 1): 7, (0, 1, 3): 7}\n",
      "updated open list:  [(2, 2, 4), (1, 3, 4), (0, 2, 4), (0, 1, 1), (0, 1, 3)]\n",
      "trajectory_path:  [(0, 0), (1, 0), (1, 1), (1, 2)]\n",
      "---------------------\n",
      "\n"
     ]
    },
    {
     "data": {
      "image/png": "[encoded data removed]",
      "text/plain": [
       "<Figure size 432x288 with 1 Axes>"
      ]
     },
     "metadata": {
      "needs_background": "light"
     },
     "output_type": "display_data"
    },
    {
     "name": "stdout",
     "output_type": "stream",
     "text": [
      "children_dict {(0, 0): [(1, 0), (0, 1)], (1, 0): [(2, 0), (1, 1)], (1, 1): [(2, 1), (0, 1), (1, 2)], (1, 2): [(2, 2), (0, 2), (1, 3)]}\n",
      "children_node_list [(2, 2), (0, 2), (1, 3)]\n",
      "node_removal_list []\n",
      "current_node: (2, 2, 4)\n",
      "hello\n",
      "hello 2\n",
      "visited_list [(0, 0), (1, 0), (2, 0), (1, 1), (2, 1), (1, 2), (2, 2)]\n",
      "allChildren [(3, 2, 5), (1, 2, 5), (2, 3, 5), (2, 1, 5)]\n",
      "removed:  (1, 2, 5) from children\n",
      "removed:  (2, 1, 5) from children\n",
      "children [(3, 2, 5), (2, 3, 5)]\n",
      "child_list [(3, 2), (2, 3)]\n",
      "node (1, 3, 4)  - gofn:  4  - hofn:  4\n",
      "node (0, 2, 4)  - gofn:  2  - hofn:  6\n",
      "node (0, 1, 1)  - gofn:  1  - hofn:  7\n",
      "node (0, 1, 3)  - gofn:  1  - hofn:  7\n",
      "node (3, 2, 5)  - gofn:  5  - hofn:  3\n",
      "node (2, 3, 5)  - gofn:  5  - hofn:  3\n",
      "sort_dict {(3, 2, 5): 3, (2, 3, 5): 3, (1, 3, 4): 4, (0, 2, 4): 6, (0, 1, 1): 7, (0, 1, 3): 7}\n",
      "updated open list:  [(3, 2, 5), (2, 3, 5), (1, 3, 4), (0, 2, 4), (0, 1, 1), (0, 1, 3)]\n",
      "trajectory_path:  [(0, 0), (1, 0), (1, 1), (1, 2), (2, 2)]\n",
      "---------------------\n",
      "\n"
     ]
    },
    {
     "data": {
      "image/png": "[encoded data removed]",
      "text/plain": [
       "<Figure size 432x288 with 1 Axes>"
      ]
     },
     "metadata": {
      "needs_background": "light"
     },
     "output_type": "display_data"
    },
    {
     "name": "stdout",
     "output_type": "stream",
     "text": [
      "children_dict {(0, 0): [(1, 0), (0, 1)], (1, 0): [(2, 0), (1, 1)], (1, 1): [(2, 1), (0, 1), (1, 2)], (1, 2): [(2, 2), (0, 2), (1, 3)], (2, 2): [(3, 2), (2, 3)]}\n",
      "children_node_list [(3, 2), (2, 3)]\n",
      "node_removal_list []\n",
      "current_node: (3, 2, 5)\n",
      "hello\n",
      "hello 2\n",
      "visited_list [(0, 0), (1, 0), (2, 0), (1, 1), (2, 1), (1, 2), (2, 2), (3, 2)]\n",
      "allChildren [(4, 2, 6), (2, 2, 6), (3, 3, 6), (3, 1, 6)]\n",
      "removed:  (2, 2, 6) from children\n",
      "children [(4, 2, 6), (3, 3, 6), (3, 1, 6)]\n",
      "child_list [(4, 2), (3, 3), (3, 1)]\n",
      "node (2, 3, 5)  - gofn:  5  - hofn:  3\n",
      "node (1, 3, 4)  - gofn:  4  - hofn:  4\n",
      "node (0, 2, 4)  - gofn:  2  - hofn:  6\n",
      "node (0, 1, 1)  - gofn:  1  - hofn:  7\n",
      "node (0, 1, 3)  - gofn:  1  - hofn:  7\n",
      "node (4, 2, 6)  - gofn:  6  - hofn:  2\n",
      "node (3, 3, 6)  - gofn:  6  - hofn:  2\n",
      "node (3, 1, 6)  - gofn:  4  - hofn:  4\n",
      "sort_dict {(4, 2, 6): 2, (3, 3, 6): 2, (2, 3, 5): 3, (1, 3, 4): 4, (3, 1, 6): 4, (0, 2, 4): 6, (0, 1, 1): 7, (0, 1, 3): 7}\n",
      "updated open list:  [(4, 2, 6), (3, 3, 6), (2, 3, 5), (1, 3, 4), (3, 1, 6), (0, 2, 4), (0, 1, 1), (0, 1, 3)]\n",
      "trajectory_path:  [(0, 0), (1, 0), (1, 1), (1, 2), (2, 2), (3, 2)]\n",
      "---------------------\n",
      "\n"
     ]
    },
    {
     "data": {
      "image/png": "[encoded data removed]",
      "text/plain": [
       "<Figure size 432x288 with 1 Axes>"
      ]
     },
     "metadata": {
      "needs_background": "light"
     },
     "output_type": "display_data"
    },
    {
     "name": "stdout",
     "output_type": "stream",
     "text": [
      "children_dict {(0, 0): [(1, 0), (0, 1)], (1, 0): [(2, 0), (1, 1)], (1, 1): [(2, 1), (0, 1), (1, 2)], (1, 2): [(2, 2), (0, 2), (1, 3)], (2, 2): [(3, 2), (2, 3)], (3, 2): [(4, 2), (3, 3), (3, 1)]}\n",
      "children_node_list [(4, 2), (3, 3), (3, 1)]\n",
      "node_removal_list []\n",
      "current_node: (4, 2, 6)\n",
      "hello\n",
      "hello 2\n",
      "visited_list [(0, 0), (1, 0), (2, 0), (1, 1), (2, 1), (1, 2), (2, 2), (3, 2), (4, 2)]\n",
      "allChildren [(3, 2, 7), (4, 3, 7), (4, 1, 7)]\n",
      "removed:  (3, 2, 7) from children\n",
      "children [(4, 3, 7), (4, 1, 7)]\n",
      "child_list [(4, 3), (4, 1)]\n",
      "node (3, 3, 6)  - gofn:  6  - hofn:  2\n",
      "node (2, 3, 5)  - gofn:  5  - hofn:  3\n",
      "node (1, 3, 4)  - gofn:  4  - hofn:  4\n",
      "node (3, 1, 6)  - gofn:  4  - hofn:  4\n",
      "node (0, 2, 4)  - gofn:  2  - hofn:  6\n",
      "node (0, 1, 1)  - gofn:  1  - hofn:  7\n",
      "node (0, 1, 3)  - gofn:  1  - hofn:  7\n",
      "node (4, 3, 7)  - gofn:  7  - hofn:  1\n",
      "node (4, 1, 7)  - gofn:  5  - hofn:  3\n",
      "sort_dict {(4, 3, 7): 1, (3, 3, 6): 2, (2, 3, 5): 3, (4, 1, 7): 3, (1, 3, 4): 4, (3, 1, 6): 4, (0, 2, 4): 6, (0, 1, 1): 7, (0, 1, 3): 7}\n",
      "updated open list:  [(4, 3, 7), (3, 3, 6), (2, 3, 5), (4, 1, 7), (1, 3, 4), (3, 1, 6), (0, 2, 4), (0, 1, 1), (0, 1, 3)]\n",
      "trajectory_path:  [(0, 0), (1, 0), (1, 1), (1, 2), (2, 2), (3, 2), (4, 2)]\n",
      "---------------------\n",
      "\n"
     ]
    },
    {
     "data": {
      "image/png": "[encoded data removed]",
      "text/plain": [
       "<Figure size 432x288 with 1 Axes>"
      ]
     },
     "metadata": {
      "needs_background": "light"
     },
     "output_type": "display_data"
    },
    {
     "name": "stdout",
     "output_type": "stream",
     "text": [
      "children_dict {(0, 0): [(1, 0), (0, 1)], (1, 0): [(2, 0), (1, 1)], (1, 1): [(2, 1), (0, 1), (1, 2)], (1, 2): [(2, 2), (0, 2), (1, 3)], (2, 2): [(3, 2), (2, 3)], (3, 2): [(4, 2), (3, 3), (3, 1)], (4, 2): [(4, 3), (4, 1)]}\n",
      "children_node_list [(4, 3), (4, 1)]\n",
      "node_removal_list [(4, 2)]\n",
      "current_node: (4, 3, 7)\n",
      "hello\n",
      "path blocked from (4, 3, 7) backtracking and attempting to Traversing from a different node\n",
      "current_node: (3, 3, 6)\n",
      "hello\n",
      "hello 2\n",
      "visited_list [(0, 0), (1, 0), (2, 0), (1, 1), (2, 1), (1, 2), (2, 2), (3, 2), (4, 2), (4, 3), (3, 3)]\n",
      "allChildren [(4, 3, 7), (2, 3, 7), (3, 4, 7), (3, 2, 7)]\n",
      "removed:  (4, 3, 7) from children\n",
      "removed:  (3, 2, 7) from children\n",
      "children [(2, 3, 7), (3, 4, 7)]\n",
      "child_list [(2, 3), (3, 4)]\n",
      "node (2, 3, 5)  - gofn:  5  - hofn:  3\n",
      "node (4, 1, 7)  - gofn:  5  - hofn:  3\n",
      "node (1, 3, 4)  - gofn:  4  - hofn:  4\n",
      "node (3, 1, 6)  - gofn:  4  - hofn:  4\n",
      "node (0, 2, 4)  - gofn:  2  - hofn:  6\n",
      "node (0, 1, 1)  - gofn:  1  - hofn:  7\n",
      "node (0, 1, 3)  - gofn:  1  - hofn:  7\n",
      "node (2, 3, 7)  - gofn:  5  - hofn:  3\n",
      "node (3, 4, 7)  - gofn:  7  - hofn:  1\n",
      "sort_dict {(3, 4, 7): 1, (2, 3, 5): 3, (4, 1, 7): 3, (2, 3, 7): 3, (1, 3, 4): 4, (3, 1, 6): 4, (0, 2, 4): 6, (0, 1, 1): 7, (0, 1, 3): 7}\n",
      "updated open list:  [(3, 4, 7), (2, 3, 5), (4, 1, 7), (2, 3, 7), (1, 3, 4), (3, 1, 6), (0, 2, 4), (0, 1, 1), (0, 1, 3)]\n",
      "trajectory_path:  [(0, 0), (1, 0), (1, 1), (1, 2), (2, 2), (3, 2), (3, 3)]\n",
      "---------------------\n",
      "\n"
     ]
    },
    {
     "data": {
      "image/png": "[encoded data removed]",
      "text/plain": [
       "<Figure size 432x288 with 1 Axes>"
      ]
     },
     "metadata": {
      "needs_background": "light"
     },
     "output_type": "display_data"
    },
    {
     "name": "stdout",
     "output_type": "stream",
     "text": [
      "children_dict {(0, 0): [(1, 0), (0, 1)], (1, 0): [(2, 0), (1, 1)], (1, 1): [(2, 1), (0, 1), (1, 2)], (1, 2): [(2, 2), (0, 2), (1, 3)], (2, 2): [(3, 2), (2, 3)], (3, 2): [(4, 2), (3, 3), (3, 1)], (4, 2): [(4, 3), (4, 1)], (3, 3): [(2, 3), (3, 4)]}\n",
      "children_node_list [(2, 3), (3, 4)]\n",
      "node_removal_list []\n",
      "current_node: (3, 4, 7)\n",
      "hello\n",
      "hello 2\n",
      "visited_list [(0, 0), (1, 0), (2, 0), (1, 1), (2, 1), (1, 2), (2, 2), (3, 2), (4, 2), (4, 3), (3, 3), (3, 4)]\n",
      "allChildren [(4, 4, 8), (2, 4, 8), (3, 3, 8)]\n",
      "removed:  (3, 3, 8) from children\n",
      "children [(4, 4, 8), (2, 4, 8)]\n",
      "child_list [(4, 4), (2, 4)]\n",
      "node (2, 3, 5)  - gofn:  5  - hofn:  3\n",
      "node (4, 1, 7)  - gofn:  5  - hofn:  3\n",
      "node (2, 3, 7)  - gofn:  5  - hofn:  3\n",
      "node (1, 3, 4)  - gofn:  4  - hofn:  4\n",
      "node (3, 1, 6)  - gofn:  4  - hofn:  4\n",
      "node (0, 2, 4)  - gofn:  2  - hofn:  6\n",
      "node (0, 1, 1)  - gofn:  1  - hofn:  7\n",
      "node (0, 1, 3)  - gofn:  1  - hofn:  7\n",
      "node (4, 4, 8)  - gofn:  8  - hofn:  0\n",
      "node (2, 4, 8)  - gofn:  6  - hofn:  2\n",
      "sort_dict {(4, 4, 8): 0, (2, 4, 8): 2, (2, 3, 5): 3, (4, 1, 7): 3, (2, 3, 7): 3, (1, 3, 4): 4, (3, 1, 6): 4, (0, 2, 4): 6, (0, 1, 1): 7, (0, 1, 3): 7}\n",
      "updated open list:  [(4, 4, 8), (2, 4, 8), (2, 3, 5), (4, 1, 7), (2, 3, 7), (1, 3, 4), (3, 1, 6), (0, 2, 4), (0, 1, 1), (0, 1, 3)]\n",
      "trajectory_path:  [(0, 0), (1, 0), (1, 1), (1, 2), (2, 2), (3, 2), (3, 3), (3, 4)]\n",
      "---------------------\n",
      "\n"
     ]
    },
    {
     "data": {
      "image/png": "[encoded data removed]",
      "text/plain": [
       "<Figure size 432x288 with 1 Axes>"
      ]
     },
     "metadata": {
      "needs_background": "light"
     },
     "output_type": "display_data"
    },
    {
     "name": "stdout",
     "output_type": "stream",
     "text": [
      "children_dict {(0, 0): [(1, 0), (0, 1)], (1, 0): [(2, 0), (1, 1)], (1, 1): [(2, 1), (0, 1), (1, 2)], (1, 2): [(2, 2), (0, 2), (1, 3)], (2, 2): [(3, 2), (2, 3)], (3, 2): [(4, 2), (3, 3), (3, 1)], (4, 2): [(4, 3), (4, 1)], (3, 3): [(2, 3), (3, 4)], (3, 4): [(4, 4), (2, 4)]}\n",
      "children_node_list [(4, 4), (2, 4)]\n",
      "node_removal_list []\n",
      "current_node: (4, 4, 8)\n",
      "hello\n",
      "hello 2\n",
      "Reached Goal!!!!!!!!!!!!!!!!!!!!!!!\n"
     ]
    },
    {
     "data": {
      "image/png": "[encoded data removed]",
      "text/plain": [
       "<Figure size 432x288 with 1 Axes>"
      ]
     },
     "metadata": {
      "needs_background": "light"
     },
     "output_type": "display_data"
    }
   ],
   "source": [
    "astar(block_unblock_matrix)"
   ]
  },
  {
   "cell_type": "code",
   "execution_count": null,
   "id": "73a7ddcd",
   "metadata": {},
   "outputs": [],
   "source": [
    "# block_unblock_matrix_2"
   ]
  },
  {
   "cell_type": "code",
   "execution_count": null,
   "id": "d9dbfac1",
   "metadata": {},
   "outputs": [],
   "source": []
  }
 ],
 "metadata": {
  "kernelspec": {
   "display_name": "Python 3",
   "language": "python",
   "name": "python3"
  },
  "language_info": {
   "codemirror_mode": {
    "name": "ipython",
    "version": 3
   },
   "file_extension": ".py",
   "mimetype": "text/x-python",
   "name": "python",
   "nbconvert_exporter": "python",
   "pygments_lexer": "ipython3",
   "version": "3.8.8"
  }
 },
 "nbformat": 4,
 "nbformat_minor": 5
}
