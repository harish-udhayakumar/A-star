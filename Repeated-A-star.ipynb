{
 "cells": [
  {
   "cell_type": "markdown",
   "id": "b19ad0de",
   "metadata": {},
   "source": [
    "# A* Algo"
   ]
  },
  {
   "cell_type": "code",
   "execution_count": 1,
   "id": "c93ea6cb",
   "metadata": {},
   "outputs": [],
   "source": [
    "import numpy as np\n",
    "import matplotlib.pyplot as plt\n",
    "from matplotlib import colors\n",
    "import math"
   ]
  },
  {
   "cell_type": "code",
   "execution_count": 2,
   "id": "548007cd",
   "metadata": {},
   "outputs": [],
   "source": [
    "def euclidean_distance_calc(i, j, n):\n",
    "    \"\"\"\n",
    "    This function returns Euclidean distance for every cell\n",
    "    i: row value\n",
    "    j: column value\n",
    "    n: size of the maze\n",
    "    \"\"\"\n",
    "    return math.sqrt(((n - i)**2 + (n - j)**2))\n",
    "\n",
    "def chebyshev_distance_calc(i, j, n):\n",
    "    \"\"\"\n",
    "    This function returns chebyshev distance for every cell\n",
    "    i: row value\n",
    "    j: column value\n",
    "    n: size of the maze\n",
    "    \"\"\"\n",
    "    return max((n - i), (n - j))\n",
    "\n",
    "\n",
    "def manhattan_distance_calc(i, j, n):\n",
    "    \"\"\"\n",
    "    This function returns manhattan distance for every cell\n",
    "    i: row value\n",
    "    j: column value\n",
    "    n: size of the maze\n",
    "    \"\"\"\n",
    "    return abs(n - i) + abs(n - j)\n",
    "\n",
    "def compute_hofn(n, heuristic):\n",
    "    \"\"\"\n",
    "    This function returns h(n) value for every cell as a matrix\n",
    "    heuristic: specific type of heuristic used to calculate h(n)\n",
    "    n: size of the maze\n",
    "    \"\"\"\n",
    "    hofn_matrix = []\n",
    "    for i in range(n):\n",
    "        hofn_row = []\n",
    "        for j in range(n):\n",
    "            if heuristic == \"euclidean\":\n",
    "                dist = euclidean_distance_calc(i, j, n -1)\n",
    "            elif heuristic == \"chebyshev\":\n",
    "                dist = chebyshev_distance_calc(i, j, n -1)\n",
    "            elif heuristic == \"manhattan\":\n",
    "                dist = manhattan_distance_calc(i, j, n -1)\n",
    "            hofn_row.append(dist)\n",
    "        hofn_matrix.append(hofn_row)\n",
    "    return np.array(hofn_matrix)"
   ]
  },
  {
   "cell_type": "code",
   "execution_count": 3,
   "id": "5f5f27b3",
   "metadata": {},
   "outputs": [],
   "source": [
    "def populateMatrix(n,p):\n",
    "    \"\"\"\n",
    "    This function returns randomly populated maze\n",
    "    p: probabillity density of each cell\n",
    "    n: size of the maze\n",
    "    \"\"\"\n",
    "\n",
    "    np_array = np.random.rand(n*n)\n",
    "    block = lambda x: 0 if x>=p else 1\n",
    "    vectorized_block = np.vectorize(block)\n",
    "    np_array = vectorized_block(np_array).reshape(n,n)\n",
    "    np_array[0,0]=0\n",
    "    np_array[n-1,n-1] =0\n",
    "    return np_array\n",
    "\n"
   ]
  },
  {
   "cell_type": "raw",
   "id": "0d5c63ca",
   "metadata": {},
   "source": [
    "h(n) matrix"
   ]
  },
  {
   "cell_type": "markdown",
   "id": "c61309f6",
   "metadata": {},
   "source": [
    "g(n) matrix"
   ]
  },
  {
   "cell_type": "code",
   "execution_count": 4,
   "id": "fee74c1d",
   "metadata": {},
   "outputs": [],
   "source": [
    "def get_hofn(hofn_matrix, row, col):\n",
    "    \"\"\"\n",
    "    This function is used to return the h(n) value of a particular cell\n",
    "    row: row value\n",
    "    col: column value\n",
    "    hofn_matrix: h(n) values for every cell in the matrix\n",
    "    \"\"\"\n",
    "    return hofn_matrix[row][col]"
   ]
  },
  {
   "cell_type": "code",
   "execution_count": 5,
   "id": "65717f50",
   "metadata": {},
   "outputs": [],
   "source": [
    "def get_children(matrix, agent_matrix, x, y, n, gofn, visited_list):\n",
    "    \"\"\"\n",
    "    This function is used to return children of a particular node\n",
    "    x: row value of current node\n",
    "    y: column value of current node\n",
    "    n: size of maze\n",
    "    gofn: g(n) value of current node\n",
    "    visited_list: list of nodes that are already visited\n",
    "    matrix: maze\n",
    "    agent_matrix: matrix of the agent that holds the information of updated environment\n",
    "    \"\"\"\n",
    "    allChildren = [(x+1,y,gofn+1),#down\n",
    "                   (x-1,y,gofn+1),#up\n",
    "                   (x,y+1,gofn+1),#right\n",
    "                   (x,y-1,gofn+1)]#left\n",
    "    \n",
    "    if x+1 > n-1 or agent_matrix.item(x+1,y) == 1:\n",
    "        allChildren.remove((x+1,y,gofn+1))\n",
    "    if x-1 < 0 or agent_matrix.item(x-1,y) == 1:\n",
    "        allChildren.remove((x-1,y,gofn+1))\n",
    "    if y+1 > n-1 or agent_matrix.item(x,y+1) == 1:\n",
    "        allChildren.remove((x,y+1,gofn+1))\n",
    "    if y-1 < 0 or agent_matrix.item(x,y-1) == 1:\n",
    "        allChildren.remove((x,y-1,gofn+1))\n",
    "\n",
    "    return allChildren"
   ]
  },
  {
   "cell_type": "code",
   "execution_count": 6,
   "id": "946ffd37",
   "metadata": {},
   "outputs": [],
   "source": [
    "def priority_queue(open_list, hofn_matrix):\n",
    "    \"\"\"\n",
    "    This function returns the sorted list of nodes based on their costs to the goal node\n",
    "    open_list: Consists of list of nodes yet to be visited\n",
    "    hofn_matrix: A computed distance of hofn for each node based on heuristic type chosen(manhattan, euclidian..)\n",
    "    \"\"\"\n",
    "    sort_dict = {}\n",
    "    priority_queue = []\n",
    "    for node in open_list:\n",
    "        row = node[0]\n",
    "        col = node[1]\n",
    "        gofn = node[2]\n",
    "\n",
    "        hofn = hofn_matrix.item(row,col)\n",
    "        sort_dict[node] = hofn\n",
    "        fofn = gofn + hofn\n",
    "        current_node = (row, col, gofn)\n",
    "        fofn = gofn + hofn\n",
    "        tup = ((current_node),hofn)\n",
    "        priority_queue.append(tup)\n",
    "\n",
    "    priority_queue.sort(key=lambda y: y[1])\n",
    "    for i in range(len(priority_queue)):\n",
    "        priority_queue[i] = priority_queue[i][:1][0]\n",
    "    return priority_queue"
   ]
  },
  {
   "cell_type": "code",
   "execution_count": 7,
   "id": "379670bc",
   "metadata": {},
   "outputs": [],
   "source": [
    "def display(trajectory_path, size_of_matrix):\n",
    "    \"\"\"\n",
    "    This function is used to display maze with traversed path(highlighted)\n",
    "    trajectory_path: path traversed by the agent so far\n",
    "    \"\"\"\n",
    "    np_array = populateMatrix(size_of_matrix,0)\n",
    "    final_display_matrix = np.asmatrix(np_array)\n",
    "    for path in trajectory_path:\n",
    "        final_display_matrix[path[:2]] = 1\n",
    "    colormap = colors.ListedColormap([\"white\",\"green\"])\n",
    "    plt.imshow(final_display_matrix, cmap=colormap)\n",
    "    plt.show()"
   ]
  },
  {
   "cell_type": "code",
   "execution_count": 8,
   "id": "2e1d64b6",
   "metadata": {
    "scrolled": false
   },
   "outputs": [],
   "source": [
    "def repeated_astar(maze, agent_matrix, number_of_steps, size_of_matrix):\n",
    "    \"\"\"\n",
    "    This function is used to traverse the maze using a-star algorithm recursively to find the shortest path to goal\n",
    "    maze: The matrix to traverse by the agent\n",
    "    agent_matrix: matrix of the agent that holds the information of updated environment\n",
    "    number_of_steps: Number of steps taken by the node to reach the current state\n",
    "    \"\"\"\n",
    "    \n",
    "    visited_list = []\n",
    "    open_list = []\n",
    "    trajectory_path = []\n",
    "    path_block = 0\n",
    "    goal_reached = False\n",
    "    children_dict = {}\n",
    "    i = 0\n",
    "    start = (0, 0, 0)\n",
    "    goal = (size_of_matrix-1, size_of_matrix-1)\n",
    "    gofn_dict = {}\n",
    "    open_list.append(start)\n",
    "    hofn_matrix = compute_hofn(size_of_matrix, \"manhattan\")\n",
    "    print(\"Nodes visited: \", visited_list)\n",
    "    while open_list:\n",
    "        child_list = []\n",
    "        blocked_child = 0\n",
    "        current_node = open_list.pop(0)\n",
    "        gofn_dict[current_node[:2]] = current_node[2]\n",
    "        if current_node[:2] not in visited_list:\n",
    "            visited_list.append(current_node[:2])\n",
    "            number_of_steps += 1\n",
    "            if current_node[:2] not in trajectory_path: \n",
    "                trajectory_path.append(current_node[:2])\n",
    "            print(\"current_node:\", current_node)\n",
    "            if maze.item(current_node[:2]) == 0:\n",
    "                if current_node[0] == size_of_matrix-1 and current_node[1] == size_of_matrix-1:\n",
    "                    print(\"Reached Goal!!!!!!!!!!!!!!!!!!!!!!!\")\n",
    "                    goal_reached = True\n",
    "                    display(trajectory_path, size_of_matrix)\n",
    "                    print(\"number_of_steps\", number_of_steps)                    \n",
    "                    return trajectory_path, goal_reached, number_of_steps, visited_list\n",
    "                print(\"recorded_visits\", visited_list)\n",
    "                recorded_visits = visited_list\n",
    "\n",
    "                #get children for the current node\n",
    "                children = get_children(maze,agent_matrix, current_node[0], current_node[1], size_of_matrix, current_node[2], visited_list)\n",
    "\n",
    "                for x in children:\n",
    "                    child_list.append(x[:2])\n",
    "                children_dict[current_node[:2]] = child_list\n",
    "\n",
    "                for node in children:\n",
    "                    if node not in open_list:\n",
    "                        open_list.append(node)\n",
    "                open_list = priority_queue(open_list, hofn_matrix)\n",
    "\n",
    "                print(\"Updated open list: \", open_list)\n",
    "                print(\"Number_of_steps covered so far: \", number_of_steps)               \n",
    "                print(\"Trajectory_path: \", trajectory_path)\n",
    "\n",
    "                display(trajectory_path, size_of_matrix)\n",
    "\n",
    "                #remove the nodes which have a block from the path and retract back to unblocked node from the display output\n",
    "                for child in children_dict[current_node[:2]]:\n",
    "                    if maze[child] == 1:\n",
    "                        blocked_child += 1\n",
    "                    if child in trajectory_path:\n",
    "                        blocked_child += 1\n",
    "                    if agent_matrix[child] == 1:\n",
    "                        blocked_child += 1\n",
    "                    if blocked_child >= len(child_list):\n",
    "                        agent_matrix[current_node[:2]] = 1\n",
    "                        if agent_matrix[0,0] == 1:\n",
    "                            print(\"No path to goal!!\")\n",
    "                            break\n",
    "                        trajectory_path, goal_reached, number_of_steps, visited_list = repeated_astar(maze, agent_matrix, number_of_steps, size_of_matrix)\n",
    "                        if goal_reached:\n",
    "                            return trajectory_path, goal_reached, number_of_steps, visited_list\n",
    "            else:\n",
    "                if open_list == []:\n",
    "                    print(\"There is no path available to goal Node.\")\n",
    "                    break\n",
    "                else:\n",
    "                    agent_matrix[current_node[:2]] = 1\n",
    "                    #start from previous unblocked node\n",
    "                    index = -1\n",
    "                    while True:\n",
    "                        previous_node = visited_list[index]\n",
    "                        if agent_matrix[visited_list[index]] == 0:\n",
    "                            break\n",
    "                        else:\n",
    "                            index -= 1\n",
    "                    previous_node = (previous_node[0],previous_node[1] ,gofn_dict[current_node[:2]])\n",
    "                    open_list.append(previous_node)\n",
    "                    trajectory_path.remove(current_node[:2])\n",
    "                    print(\"path blocked from\", current_node, \"backtracking and attempting to Traversing again from node: \", previous_node)\n",
    "                    \n",
    "\n",
    "#                     trajectory_path, goal_reached, number_of_steps = repeated_astar(maze, agent_matrix, number_of_steps, size_of_matrix)\n",
    "                    if goal_reached:\n",
    "                            return trajectory_path, goal_reached, number_of_steps\n",
    "        else:\n",
    "            print(current_node[:2], \"node already visited\")\n",
    "            if open_list == []:\n",
    "                    print(\"There is no path available to goal Node\")\n",
    "                    break\n",
    "\n",
    "    if (size_of_matrix-1,size_of_matrix-1) in trajectory_path:\n",
    "        goal_reached = True\n",
    "    else:\n",
    "        print(\"There is no path available to goal Node\")\n",
    "    return trajectory_path, goal_reached, number_of_steps, visited_list"
   ]
  },
  {
   "cell_type": "code",
   "execution_count": 12,
   "id": "fd96f60a",
   "metadata": {
    "scrolled": true
   },
   "outputs": [
    {
     "data": {
      "image/png": "[encoded data removed]",
      "text/plain": [
       "<Figure size 432x288 with 1 Axes>"
      ]
     },
     "metadata": {
      "needs_background": "light"
     },
     "output_type": "display_data"
    }
   ],
   "source": [
    "if __name__ == \"__main__\":\n",
    "    size_of_matrix = 5\n",
    "    np_array = populateMatrix(size_of_matrix,0.5)\n",
    "    maze = np.asmatrix(np_array)\n",
    "\n",
    "    np_array = populateMatrix(size_of_matrix,0)\n",
    "    agent_matrix = np.asmatrix(np_array)\n",
    "        # a sample matrix to test run the code\n",
    "#     maze = [[0, 1, 0, 1, 1],\n",
    "#             [0, 0, 0, 1, 1],\n",
    "#             [1, 1, 0, 1, 0],\n",
    "#             [1, 0, 0, 0, 0],\n",
    "#             [0, 1, 0, 1, 0]]\n",
    "\n",
    "\n",
    "    maze = np.matrix(maze)\n",
    "    plt.spy(maze)"
   ]
  },
  {
   "cell_type": "code",
   "execution_count": 13,
   "id": "133ab2b7",
   "metadata": {},
   "outputs": [
    {
     "name": "stdout",
     "output_type": "stream",
     "text": [
      "Nodes visited:  []\n",
      "current_node: (0, 0, 0)\n",
      "recorded_visits [(0, 0)]\n",
      "Updated open list:  [(1, 0, 1), (0, 1, 1)]\n",
      "Number_of_steps covered so far:  1\n",
      "Trajectory_path:  [(0, 0)]\n"
     ]
    },
    {
     "data": {
      "image/png": "[encoded data removed]",
      "text/plain": [
       "<Figure size 432x288 with 1 Axes>"
      ]
     },
     "metadata": {
      "needs_background": "light"
     },
     "output_type": "display_data"
    },
    {
     "name": "stdout",
     "output_type": "stream",
     "text": [
      "current_node: (1, 0, 1)\n",
      "recorded_visits [(0, 0), (1, 0)]\n",
      "Updated open list:  [(2, 0, 2), (1, 1, 2), (0, 1, 1), (0, 0, 2)]\n",
      "Number_of_steps covered so far:  2\n",
      "Trajectory_path:  [(0, 0), (1, 0)]\n"
     ]
    },
    {
     "data": {
      "image/png": "[encoded data removed]",
      "text/plain": [
       "<Figure size 432x288 with 1 Axes>"
      ]
     },
     "metadata": {
      "needs_background": "light"
     },
     "output_type": "display_data"
    },
    {
     "name": "stdout",
     "output_type": "stream",
     "text": [
      "current_node: (2, 0, 2)\n",
      "recorded_visits [(0, 0), (1, 0), (2, 0)]\n",
      "Updated open list:  [(3, 0, 3), (2, 1, 3), (1, 1, 2), (0, 1, 1), (1, 0, 3), (0, 0, 2)]\n",
      "Number_of_steps covered so far:  3\n",
      "Trajectory_path:  [(0, 0), (1, 0), (2, 0)]\n"
     ]
    },
    {
     "data": {
      "image/png": "[encoded data removed]",
      "text/plain": [
       "<Figure size 432x288 with 1 Axes>"
      ]
     },
     "metadata": {
      "needs_background": "light"
     },
     "output_type": "display_data"
    },
    {
     "name": "stdout",
     "output_type": "stream",
     "text": [
      "current_node: (3, 0, 3)\n",
      "recorded_visits [(0, 0), (1, 0), (2, 0), (3, 0)]\n",
      "Updated open list:  [(4, 0, 4), (3, 1, 4), (2, 1, 3), (1, 1, 2), (2, 0, 4), (0, 1, 1), (1, 0, 3), (0, 0, 2)]\n",
      "Number_of_steps covered so far:  4\n",
      "Trajectory_path:  [(0, 0), (1, 0), (2, 0), (3, 0)]\n"
     ]
    },
    {
     "data": {
      "image/png": "[encoded data removed]",
      "text/plain": [
       "<Figure size 432x288 with 1 Axes>"
      ]
     },
     "metadata": {
      "needs_background": "light"
     },
     "output_type": "display_data"
    },
    {
     "name": "stdout",
     "output_type": "stream",
     "text": [
      "current_node: (4, 0, 4)\n",
      "path blocked from (4, 0, 4) backtracking and attempting to Traversing again from node:  (3, 0, 4)\n",
      "current_node: (3, 1, 4)\n",
      "recorded_visits [(0, 0), (1, 0), (2, 0), (3, 0), (4, 0), (3, 1)]\n",
      "Updated open list:  [(4, 1, 5), (3, 2, 5), (2, 1, 3), (3, 0, 4), (2, 1, 5), (3, 0, 5), (1, 1, 2), (2, 0, 4), (0, 1, 1), (1, 0, 3), (0, 0, 2)]\n",
      "Number_of_steps covered so far:  6\n",
      "Trajectory_path:  [(0, 0), (1, 0), (2, 0), (3, 0), (3, 1)]\n"
     ]
    },
    {
     "data": {
      "image/png": "[encoded data removed]",
      "text/plain": [
       "<Figure size 432x288 with 1 Axes>"
      ]
     },
     "metadata": {
      "needs_background": "light"
     },
     "output_type": "display_data"
    },
    {
     "name": "stdout",
     "output_type": "stream",
     "text": [
      "current_node: (4, 1, 5)\n",
      "recorded_visits [(0, 0), (1, 0), (2, 0), (3, 0), (4, 0), (3, 1), (4, 1)]\n",
      "Updated open list:  [(4, 2, 6), (3, 2, 5), (3, 1, 6), (2, 1, 3), (3, 0, 4), (2, 1, 5), (3, 0, 5), (1, 1, 2), (2, 0, 4), (0, 1, 1), (1, 0, 3), (0, 0, 2)]\n",
      "Number_of_steps covered so far:  7\n",
      "Trajectory_path:  [(0, 0), (1, 0), (2, 0), (3, 0), (3, 1), (4, 1)]\n"
     ]
    },
    {
     "data": {
      "image/png": "[encoded data removed]",
      "text/plain": [
       "<Figure size 432x288 with 1 Axes>"
      ]
     },
     "metadata": {
      "needs_background": "light"
     },
     "output_type": "display_data"
    },
    {
     "name": "stdout",
     "output_type": "stream",
     "text": [
      "Nodes visited:  []\n",
      "current_node: (0, 0, 0)\n",
      "recorded_visits [(0, 0)]\n",
      "Updated open list:  [(1, 0, 1), (0, 1, 1)]\n",
      "Number_of_steps covered so far:  8\n",
      "Trajectory_path:  [(0, 0)]\n"
     ]
    },
    {
     "data": {
      "image/png": "[encoded data removed]",
      "text/plain": [
       "<Figure size 432x288 with 1 Axes>"
      ]
     },
     "metadata": {
      "needs_background": "light"
     },
     "output_type": "display_data"
    },
    {
     "name": "stdout",
     "output_type": "stream",
     "text": [
      "current_node: (1, 0, 1)\n",
      "recorded_visits [(0, 0), (1, 0)]\n",
      "Updated open list:  [(2, 0, 2), (1, 1, 2), (0, 1, 1), (0, 0, 2)]\n",
      "Number_of_steps covered so far:  9\n",
      "Trajectory_path:  [(0, 0), (1, 0)]\n"
     ]
    },
    {
     "data": {
      "image/png": "[encoded data removed]",
      "text/plain": [
       "<Figure size 432x288 with 1 Axes>"
      ]
     },
     "metadata": {
      "needs_background": "light"
     },
     "output_type": "display_data"
    },
    {
     "name": "stdout",
     "output_type": "stream",
     "text": [
      "current_node: (2, 0, 2)\n",
      "recorded_visits [(0, 0), (1, 0), (2, 0)]\n",
      "Updated open list:  [(3, 0, 3), (2, 1, 3), (1, 1, 2), (0, 1, 1), (1, 0, 3), (0, 0, 2)]\n",
      "Number_of_steps covered so far:  10\n",
      "Trajectory_path:  [(0, 0), (1, 0), (2, 0)]\n"
     ]
    },
    {
     "data": {
      "image/png": "[encoded data removed]",
      "text/plain": [
       "<Figure size 432x288 with 1 Axes>"
      ]
     },
     "metadata": {
      "needs_background": "light"
     },
     "output_type": "display_data"
    },
    {
     "name": "stdout",
     "output_type": "stream",
     "text": [
      "current_node: (3, 0, 3)\n",
      "recorded_visits [(0, 0), (1, 0), (2, 0), (3, 0)]\n",
      "Updated open list:  [(3, 1, 4), (2, 1, 3), (1, 1, 2), (2, 0, 4), (0, 1, 1), (1, 0, 3), (0, 0, 2)]\n",
      "Number_of_steps covered so far:  11\n",
      "Trajectory_path:  [(0, 0), (1, 0), (2, 0), (3, 0)]\n"
     ]
    },
    {
     "data": {
      "image/png": "[encoded data removed]",
      "text/plain": [
       "<Figure size 432x288 with 1 Axes>"
      ]
     },
     "metadata": {
      "needs_background": "light"
     },
     "output_type": "display_data"
    },
    {
     "name": "stdout",
     "output_type": "stream",
     "text": [
      "current_node: (3, 1, 4)\n",
      "recorded_visits [(0, 0), (1, 0), (2, 0), (3, 0), (3, 1)]\n",
      "Updated open list:  [(3, 2, 5), (2, 1, 3), (2, 1, 5), (3, 0, 5), (1, 1, 2), (2, 0, 4), (0, 1, 1), (1, 0, 3), (0, 0, 2)]\n",
      "Number_of_steps covered so far:  12\n",
      "Trajectory_path:  [(0, 0), (1, 0), (2, 0), (3, 0), (3, 1)]\n"
     ]
    },
    {
     "data": {
      "image/png": "[encoded data removed]",
      "text/plain": [
       "<Figure size 432x288 with 1 Axes>"
      ]
     },
     "metadata": {
      "needs_background": "light"
     },
     "output_type": "display_data"
    },
    {
     "name": "stdout",
     "output_type": "stream",
     "text": [
      "current_node: (3, 2, 5)\n",
      "recorded_visits [(0, 0), (1, 0), (2, 0), (3, 0), (3, 1), (3, 2)]\n",
      "Updated open list:  [(4, 2, 6), (3, 3, 6), (2, 2, 6), (3, 1, 6), (2, 1, 3), (2, 1, 5), (3, 0, 5), (1, 1, 2), (2, 0, 4), (0, 1, 1), (1, 0, 3), (0, 0, 2)]\n",
      "Number_of_steps covered so far:  13\n",
      "Trajectory_path:  [(0, 0), (1, 0), (2, 0), (3, 0), (3, 1), (3, 2)]\n"
     ]
    },
    {
     "data": {
      "image/png": "[encoded data removed]",
      "text/plain": [
       "<Figure size 432x288 with 1 Axes>"
      ]
     },
     "metadata": {
      "needs_background": "light"
     },
     "output_type": "display_data"
    },
    {
     "name": "stdout",
     "output_type": "stream",
     "text": [
      "current_node: (4, 2, 6)\n",
      "path blocked from (4, 2, 6) backtracking and attempting to Traversing again from node:  (3, 2, 6)\n",
      "current_node: (3, 3, 6)\n",
      "recorded_visits [(0, 0), (1, 0), (2, 0), (3, 0), (3, 1), (3, 2), (4, 2), (3, 3)]\n",
      "Updated open list:  [(4, 3, 7), (3, 4, 7), (3, 2, 6), (2, 3, 7), (3, 2, 7), (2, 2, 6), (3, 1, 6), (2, 1, 3), (2, 1, 5), (3, 0, 5), (1, 1, 2), (2, 0, 4), (0, 1, 1), (1, 0, 3), (0, 0, 2)]\n",
      "Number_of_steps covered so far:  15\n",
      "Trajectory_path:  [(0, 0), (1, 0), (2, 0), (3, 0), (3, 1), (3, 2), (3, 3)]\n"
     ]
    },
    {
     "data": {
      "image/png": "[encoded data removed]",
      "text/plain": [
       "<Figure size 432x288 with 1 Axes>"
      ]
     },
     "metadata": {
      "needs_background": "light"
     },
     "output_type": "display_data"
    },
    {
     "name": "stdout",
     "output_type": "stream",
     "text": [
      "current_node: (4, 3, 7)\n",
      "recorded_visits [(0, 0), (1, 0), (2, 0), (3, 0), (3, 1), (3, 2), (4, 2), (3, 3), (4, 3)]\n",
      "Updated open list:  [(4, 4, 8), (3, 4, 7), (3, 3, 8), (3, 2, 6), (2, 3, 7), (3, 2, 7), (2, 2, 6), (3, 1, 6), (2, 1, 3), (2, 1, 5), (3, 0, 5), (1, 1, 2), (2, 0, 4), (0, 1, 1), (1, 0, 3), (0, 0, 2)]\n",
      "Number_of_steps covered so far:  16\n",
      "Trajectory_path:  [(0, 0), (1, 0), (2, 0), (3, 0), (3, 1), (3, 2), (3, 3), (4, 3)]\n"
     ]
    },
    {
     "data": {
      "image/png": "[encoded data removed]",
      "text/plain": [
       "<Figure size 432x288 with 1 Axes>"
      ]
     },
     "metadata": {
      "needs_background": "light"
     },
     "output_type": "display_data"
    },
    {
     "name": "stdout",
     "output_type": "stream",
     "text": [
      "current_node: (4, 4, 8)\n",
      "Reached Goal!!!!!!!!!!!!!!!!!!!!!!!\n"
     ]
    },
    {
     "data": {
      "image/png": "[encoded data removed]",
      "text/plain": [
       "<Figure size 432x288 with 1 Axes>"
      ]
     },
     "metadata": {
      "needs_background": "light"
     },
     "output_type": "display_data"
    },
    {
     "name": "stdout",
     "output_type": "stream",
     "text": [
      "number_of_steps 17\n",
      "The number of cells processed: 10\n"
     ]
    }
   ],
   "source": [
    "number_of_steps = 0\n",
    "trajectory_path, goal_reached, number_of_steps, visited_list = repeated_astar(maze, agent_matrix, number_of_steps, size_of_matrix)\n",
    "print(\"The number of cells processed:\", len(visited_list))"
   ]
  },
  {
   "cell_type": "code",
   "execution_count": null,
   "id": "f3f6bbce",
   "metadata": {},
   "outputs": [],
   "source": [
    "agent_matrix"
   ]
  },
  {
   "cell_type": "code",
   "execution_count": null,
   "id": "9306e390",
   "metadata": {},
   "outputs": [],
   "source": []
  }
 ],
 "metadata": {
  "kernelspec": {
   "display_name": "Python 3",
   "language": "python",
   "name": "python3"
  },
  "language_info": {
   "codemirror_mode": {
    "name": "ipython",
    "version": 3
   },
   "file_extension": ".py",
   "mimetype": "text/x-python",
   "name": "python",
   "nbconvert_exporter": "python",
   "pygments_lexer": "ipython3",
   "version": "3.8.8"
  }
 },
 "nbformat": 4,
 "nbformat_minor": 5
}
