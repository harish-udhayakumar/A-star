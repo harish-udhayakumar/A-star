{
 "cells": [
  {
   "cell_type": "code",
   "execution_count": null,
   "id": "54f1bc3f",
   "metadata": {},
   "outputs": [],
   "source": [
    "def get_children(matrix, x, y, n, gofn):\n",
    "    allChildren = [(x+1,y,gofn+1),#down\n",
    "                   (x-1,y,gofn+1),#up\n",
    "                   (x,y+1,gofn+1),#right\n",
    "                   (x,y-1,gofn+1)]#left\n",
    "    if x+1>n-1:\n",
    "        allChildren.remove((x+1,y,gofn+1))\n",
    "    if x-1 < 0:\n",
    "        allChildren.remove((x-1,y,gofn+1))\n",
    "    if y+1 > n-1:\n",
    "        allChildren.remove((x,y+1,gofn+1))\n",
    "    if y-1 < 0:\n",
    "        allChildren.remove((x,y-1,gofn+1))\n",
    "    return allChildren"
   ]
  }
 ],
 "metadata": {
  "kernelspec": {
   "display_name": "Python 3 (ipykernel)",
   "language": "python",
   "name": "python3"
  },
  "language_info": {
   "codemirror_mode": {
    "name": "ipython",
    "version": 3
   },
   "file_extension": ".py",
   "mimetype": "text/x-python",
   "name": "python",
   "nbconvert_exporter": "python",
   "pygments_lexer": "ipython3",
   "version": "3.8.10"
  }
 },
 "nbformat": 4,
 "nbformat_minor": 5
}
