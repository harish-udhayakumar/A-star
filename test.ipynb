{
 "cells": [
  {
   "cell_type": "code",
   "execution_count": 50,
   "metadata": {},
   "outputs": [],
   "source": [
    "import numpy as np\n",
    "import matplotlib.pyplot as plt\n",
    "\n",
    "n = 5\n",
    "matrix = []\n",
    "block_unblock_matrix = []"
   ]
  },
  {
   "cell_type": "code",
   "execution_count": 59,
   "metadata": {},
   "outputs": [
    {
     "data": {
      "text/plain": [
       "<matplotlib.image.AxesImage at 0x7f4c573adf40>"
      ]
     },
     "execution_count": 59,
     "metadata": {},
     "output_type": "execute_result"
    },
    {
     "data": {
      "image/png": "[encoded data removed]",
      "text/plain": [
       "<Figure size 432x288 with 1 Axes>"
      ]
     },
     "metadata": {
      "needs_background": "light"
     },
     "output_type": "display_data"
    }
   ],
   "source": [
    "def populateMatrix(n,p):\n",
    "    np_array = np.random.rand(n*n)\n",
    "    block = lambda x: 0 if x>=p else 1\n",
    "    vectorized_block = np.vectorize(block)\n",
    "    np_array = vectorized_block(np_array).reshape(n,n)\n",
    "    np_array[0,0]=0\n",
    "    np_array[n-1,n-1] =0\n",
    "    return np_array\n",
    "    \n",
    "np_array = populateMatrix(5,0.3)\n",
    "block_unblock_matrix = np.asmatrix(np_array)\n",
    "\n",
    "plt.spy(block_unblock_matrix)"
   ]
  },
  {
   "cell_type": "code",
   "execution_count": 60,
   "metadata": {},
   "outputs": [],
   "source": [
    "costTable = {(0,0):0}\n",
    "parentTable = {}\n",
    "fringe = {(0,0):0}   #{(x,y): cost}\n",
    "visited = {}         #change datatype if necessary\n",
    "parent = (0,0)       #global parent variable\n",
    "goal= (n-1,n-1)\n",
    "\n",
    "\"\"\" ignore this block\n",
    "def indexToCoordinates(c):\n",
    "    if c==0:\n",
    "        return (0,0)\n",
    "    x=int(c/n)\n",
    "    y=c%n\n",
    "    return (x,y)\n",
    "    \n",
    "def coordinatesToIndex(x,y):\n",
    "    return n*x+y\n",
    "\"\"\"\n",
    "    \n",
    "# indexToCoordinates(8)\n",
    "# print(coordinatesToIndex(1,1))+3"
   ]
  },
  {
   "cell_type": "code",
   "execution_count": null,
   "metadata": {},
   "outputs": [],
   "source": [
    "def setCostAndParentOf(nodes):\n",
    "    for x in nodes:\n",
    "        if costTable.has_key(x):                    #if x is already present in costTable\n",
    "            if costTable[x] > costTable[parent] +1: #if x's cost > new calculated cost for x, i.e. if we got a better cost for x, update its parent,cost to new values\n",
    "                parentTable[x] = parent    #this is global parent variable\n",
    "                costTable[x] = costTable[parent] +1\n",
    "        else:                                       #if x is not present in costTable. i.e., if we don't have any cost for x yet.\n",
    "            parentTable[x] = parent                 #this is global parent variable\n",
    "            costTable[x] = costTable[parent] +1 "
   ]
  },
  {
   "cell_type": "code",
   "execution_count": null,
   "metadata": {},
   "outputs": [],
   "source": [
    "def pushToFringe(nodes):\n",
    "    for x in nodes:\n",
    "        if fringe.has_key(x):\n",
    "            if fringe[x] > costTable[x]:       #if we have better cost for x than what is already in fringe\n",
    "                fringe[x] = costTable[x]       #update x's value in fringe to new(lower) cost\n",
    "        else:                                  #if fringe doesn't have x in it yet\n",
    "            fringe[x] = costTable[x]           #add x to fringe"
   ]
  },
  {
   "cell_type": "code",
   "execution_count": null,
   "metadata": {},
   "outputs": [],
   "source": [
    "\"\"\" Ignore this\n",
    "def updateParentOf(node):\n",
    "    parentTable[node] = parent\n",
    "\"\"\""
   ]
  },
  {
   "cell_type": "code",
   "execution_count": 61,
   "metadata": {},
   "outputs": [],
   "source": [
    "def addToVisitedNodes(node):\n",
    "    visited[node] = True"
   ]
  },
  {
   "cell_type": "code",
   "execution_count": 63,
   "metadata": {},
   "outputs": [
    {
     "name": "stdout",
     "output_type": "stream",
     "text": [
      "(0, 0) 0\n",
      "{(0, 0): True}\n"
     ]
    },
    {
     "ename": "NameError",
     "evalue": "name 'computeHOfN' is not defined",
     "output_type": "error",
     "traceback": [
      "\u001b[0;31m---------------------------------------------------------------------------\u001b[0m",
      "\u001b[0;31mNameError\u001b[0m                                 Traceback (most recent call last)",
      "\u001b[0;32m<ipython-input-63-24ed69a4bdae>\u001b[0m in \u001b[0;36m<module>\u001b[0;34m\u001b[0m\n\u001b[1;32m     25\u001b[0m     \u001b[0;32mreturn\u001b[0m \u001b[0;34m-\u001b[0m\u001b[0;36m1\u001b[0m \u001b[0;31m#change datatype if necessary\u001b[0m\u001b[0;34m\u001b[0m\u001b[0;34m\u001b[0m\u001b[0m\n\u001b[1;32m     26\u001b[0m \u001b[0;34m\u001b[0m\u001b[0m\n\u001b[0;32m---> 27\u001b[0;31m \u001b[0mAstar\u001b[0m\u001b[0;34m(\u001b[0m\u001b[0;34m)\u001b[0m\u001b[0;34m\u001b[0m\u001b[0;34m\u001b[0m\u001b[0m\n\u001b[0m",
      "\u001b[0;32m<ipython-input-63-24ed69a4bdae>\u001b[0m in \u001b[0;36mAstar\u001b[0;34m()\u001b[0m\n\u001b[1;32m     13\u001b[0m         \u001b[0maddToVisitedNodes\u001b[0m\u001b[0;34m(\u001b[0m\u001b[0mcurrentNode\u001b[0m\u001b[0;34m)\u001b[0m\u001b[0;34m\u001b[0m\u001b[0;34m\u001b[0m\u001b[0m\n\u001b[1;32m     14\u001b[0m         \u001b[0mprint\u001b[0m\u001b[0;34m(\u001b[0m\u001b[0mvisited\u001b[0m\u001b[0;34m)\u001b[0m\u001b[0;34m\u001b[0m\u001b[0;34m\u001b[0m\u001b[0m\n\u001b[0;32m---> 15\u001b[0;31m         \u001b[0mcomputeHOfN\u001b[0m\u001b[0;34m(\u001b[0m\u001b[0mcurrentNode\u001b[0m\u001b[0;34m,\u001b[0m\u001b[0mheuristicType\u001b[0m\u001b[0;34m)\u001b[0m \u001b[0;31m#no need to calculate g(n) because it is there in costTable[n]\u001b[0m\u001b[0;34m\u001b[0m\u001b[0;34m\u001b[0m\u001b[0m\n\u001b[0m\u001b[1;32m     16\u001b[0m         \u001b[0mcomputeFOfN\u001b[0m\u001b[0;34m(\u001b[0m\u001b[0mcurrentNode\u001b[0m\u001b[0;34m)\u001b[0m\u001b[0;34m\u001b[0m\u001b[0;34m\u001b[0m\u001b[0m\n\u001b[1;32m     17\u001b[0m         \u001b[0;32mif\u001b[0m \u001b[0mcurrentNode\u001b[0m \u001b[0;34m==\u001b[0m \u001b[0mgoal\u001b[0m\u001b[0;34m:\u001b[0m\u001b[0;34m\u001b[0m\u001b[0;34m\u001b[0m\u001b[0m\n",
      "\u001b[0;31mNameError\u001b[0m: name 'computeHOfN' is not defined"
     ]
    }
   ],
   "source": [
    "def Astar():\n",
    "    global fringe\n",
    "    global parent\n",
    "    while bool(fringe):\n",
    "        fringe = dict(sorted(fringe.items(), key=lambda item: item[1]))\n",
    "        currentNode = next(iter(fringe))\n",
    "        currentNodeCost = fringe[currentNode]\n",
    "        del fringe[currentNode]\n",
    "#         print(currentNode,currentNodeCost)\n",
    "#         if currentNode != (0,0):             # do not delete this line\n",
    "#     #         print(\"for node \",currentNode) # do not delete this line\n",
    "#             updateParentOf(currentNode)      # do not delete this line\n",
    "#             updateCostOf(currentNode,currentNodeCost) # do not delete this line\n",
    "        addToVisitedNodes(currentNode)\n",
    "        print(visited)\n",
    "        computeHOfN(currentNode,heuristicType)  #no need to calculate g(n) because it is there in costTable[n]\n",
    "        computeFOfN(currentNode)\n",
    "        if currentNode == goal:\n",
    "            print(\"path found\")\n",
    "            return findPathToSourceFrom(currentNode)\n",
    "        parent = currentNode                    #update global parent variable to currentNode (to set parent for its children in next step)\n",
    "        children = generateValidChildren(currentNode)\n",
    "        setCostAndParentOf(children)\n",
    "        pushToFringe(children)\n",
    "    print(\"Couldn't find path to Goal\")\n",
    "    return -1 #change datatype if necessary\n",
    "\n",
    "Astar()"
   ]
  }
 ],
 "metadata": {
  "kernelspec": {
   "display_name": "Python 3",
   "language": "python",
   "name": "python3"
  },
  "language_info": {
   "codemirror_mode": {
    "name": "ipython",
    "version": 3
   },
   "file_extension": ".py",
   "mimetype": "text/x-python",
   "name": "python",
   "nbconvert_exporter": "python",
   "pygments_lexer": "ipython3",
   "version": "3.8.5"
  }
 },
 "nbformat": 4,
 "nbformat_minor": 4
}
